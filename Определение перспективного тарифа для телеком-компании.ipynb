{
 "cells": [
  {
   "cell_type": "markdown",
   "metadata": {},
   "source": [
    "# Описание проекта\n",
    "\n",
    "Вы аналитик компании «Мегалайн» — федерального оператора сотовой связи. Клиентам предлагают два тарифных плана: «Смарт» и «Ультра». Чтобы скорректировать рекламный бюджет, коммерческий департамент хочет понять, какой тариф приносит больше денег.\n",
    "\n",
    "Вам предстоит сделать предварительный анализ тарифов на небольшой выборке клиентов. В вашем распоряжении данные 500 пользователей «Мегалайна»: кто они, откуда, каким тарифом пользуются, сколько звонков и сообщений каждый отправил за 2018 год. Нужно проанализировать поведение клиентов и сделать вывод — какой тариф лучше."
   ]
  },
  {
   "cell_type": "markdown",
   "metadata": {},
   "source": [
    "# Описание тарифов\n",
    "### Тариф «Смарт»\n",
    "- Ежемесячная плата: 550 рублей\n",
    "- Включено 500 минут разговора, 50 сообщений и 15 Гб интернет-трафика\n",
    "- Стоимость услуг сверх тарифного пакета:\n",
    "    - минута разговора: 3 рубля\n",
    "    - сообщение: 3 рубля\n",
    "    - 1 Гб интернет-трафика: 200 рублей\n",
    "    \n",
    "### Тариф «Ультра»\n",
    "- Ежемесячная плата: 1950 рублей\n",
    "- Включено 3000 минут разговора, 1000 сообщений и 30 Гб интернет-трафика\n",
    "- Стоимость услуг сверх тарифного пакета:\n",
    "    - минута разговора: 1 рубль\n",
    "    - сообщение: 1 рубль\n",
    "    - 1 Гб интернет-трафика: 150 рублей"
   ]
  },
  {
   "cell_type": "markdown",
   "metadata": {},
   "source": [
    "# Описание данных\n",
    "### Таблица users (информация о пользователях):\n",
    "- `user_id` — уникальный идентификатор пользователя\n",
    "- `first_name` — имя пользователя\n",
    "- `last_name` — фамилия пользователя\n",
    "- `age` — возраст пользователя (годы)\n",
    "- `reg_date` — дата подключения тарифа (день, месяц, год)\n",
    "- `churn_date` — дата прекращения пользования тарифом (если значение пропущено, то тариф ещё действовал на момент выгрузки данных)\n",
    "- `city` — город проживания пользователя\n",
    "- `tariff` — название тарифного плана\n",
    "\n",
    "### Таблица calls (информация о звонках):\n",
    "- `id` — уникальный номер звонка\n",
    "- `call_date` — дата звонка\n",
    "- `duration` — длительность звонка в минутах\n",
    "- `user_id` — идентификатор пользователя, сделавшего звонок\n",
    "\n",
    "### Таблица messages (информация о сообщениях):\n",
    "- `id` — уникальный номер сообщения\n",
    "- `message_date` — дата сообщения\n",
    "- `user_id` — идентификатор пользователя, отправившего сообщение\n",
    "\n",
    "### Таблица internet (информация об интернет-сессиях):\n",
    "- `id` — уникальный номер сессии\n",
    "- `mb_used` — объём потраченного за сессию интернет-трафика (в мегабайтах)\n",
    "- `session_date` — дата интернет-сессии\n",
    "- `user_id` — идентификатор пользователя\n",
    "\n",
    "### Таблица tariffs (информация о тарифах):\n",
    "- `tariff_name` — название тарифа\n",
    "- `rub_monthly_fee` — ежемесячная абонентская плата в рублях\n",
    "- `minutes_included` — количество минут разговора в месяц, включённых в абонентскую плату\n",
    "- `messages_included` — количество сообщений в месяц, включённых в абонентскую плату\n",
    "- `mb_per_month_included` — объём интернет-трафика, включённого в абонентскую плату (в мегабайтах)\n",
    "- `rub_per_minute` — стоимость минуты разговора сверх тарифного пакета (например, если в тарифе 100 минут разговора в месяц, то со 101 минуты будет взиматься плата)\n",
    "- `rub_per_message` — стоимость отправки сообщения сверх тарифного пакета\n",
    "- `rub_per_gb` — стоимость дополнительного гигабайта интернет-трафика сверх тарифного пакета (1 гигабайт = 1024 мегабайта)"
   ]
  },
  {
   "cell_type": "markdown",
   "metadata": {},
   "source": [
    "## Откройте файл с данными и изучите общую информацию"
   ]
  },
  {
   "cell_type": "code",
   "execution_count": 1,
   "metadata": {},
   "outputs": [
    {
     "name": "stdout",
     "output_type": "stream",
     "text": [
      "<class 'pandas.core.frame.DataFrame'>\n",
      "RangeIndex: 202607 entries, 0 to 202606\n",
      "Data columns (total 4 columns):\n",
      "id           202607 non-null object\n",
      "call_date    202607 non-null object\n",
      "duration     202607 non-null float64\n",
      "user_id      202607 non-null int64\n",
      "dtypes: float64(1), int64(1), object(2)\n",
      "memory usage: 6.2+ MB\n",
      "None\n",
      "\n",
      "<class 'pandas.core.frame.DataFrame'>\n",
      "RangeIndex: 149396 entries, 0 to 149395\n",
      "Data columns (total 5 columns):\n",
      "Unnamed: 0      149396 non-null int64\n",
      "id              149396 non-null object\n",
      "mb_used         149396 non-null float64\n",
      "session_date    149396 non-null object\n",
      "user_id         149396 non-null int64\n",
      "dtypes: float64(1), int64(2), object(2)\n",
      "memory usage: 5.7+ MB\n",
      "None\n",
      "\n",
      "<class 'pandas.core.frame.DataFrame'>\n",
      "RangeIndex: 123036 entries, 0 to 123035\n",
      "Data columns (total 3 columns):\n",
      "id              123036 non-null object\n",
      "message_date    123036 non-null object\n",
      "user_id         123036 non-null int64\n",
      "dtypes: int64(1), object(2)\n",
      "memory usage: 2.8+ MB\n",
      "None\n",
      "\n",
      "<class 'pandas.core.frame.DataFrame'>\n",
      "RangeIndex: 2 entries, 0 to 1\n",
      "Data columns (total 8 columns):\n",
      "messages_included        2 non-null int64\n",
      "mb_per_month_included    2 non-null int64\n",
      "minutes_included         2 non-null int64\n",
      "rub_monthly_fee          2 non-null int64\n",
      "rub_per_gb               2 non-null int64\n",
      "rub_per_message          2 non-null int64\n",
      "rub_per_minute           2 non-null int64\n",
      "tariff_name              2 non-null object\n",
      "dtypes: int64(7), object(1)\n",
      "memory usage: 256.0+ bytes\n",
      "None\n",
      "\n",
      "<class 'pandas.core.frame.DataFrame'>\n",
      "RangeIndex: 500 entries, 0 to 499\n",
      "Data columns (total 8 columns):\n",
      "user_id       500 non-null int64\n",
      "age           500 non-null int64\n",
      "churn_date    38 non-null object\n",
      "city          500 non-null object\n",
      "first_name    500 non-null object\n",
      "last_name     500 non-null object\n",
      "reg_date      500 non-null object\n",
      "tariff        500 non-null object\n",
      "dtypes: int64(2), object(6)\n",
      "memory usage: 31.4+ KB\n",
      "None\n",
      "\n"
     ]
    }
   ],
   "source": [
    "import pandas as pd\n",
    "import matplotlib.pyplot as plt\n",
    "import numpy as np\n",
    "import scipy.stats as st\n",
    "from scipy import stats as st\n",
    "import seaborn as sns\n",
    "\n",
    "calls = pd.read_csv('/datasets/calls.csv')\n",
    "internet = pd.read_csv('/datasets/internet.csv')\n",
    "messages = pd.read_csv('/datasets/messages.csv')\n",
    "tariffs = pd.read_csv('/datasets/tariffs.csv')\n",
    "users = pd.read_csv('/datasets/users.csv')\n",
    "\n",
    "for i in [calls, internet, messages, tariffs, users]:\n",
    "    print(i.info(), end='\\n\\n')"
   ]
  },
  {
   "cell_type": "markdown",
   "metadata": {},
   "source": [
    "Привести данные к datetime:\n",
    "1. call_date\n",
    "2. session_date\n",
    "3. message_date\n",
    "4. reg_date, churn_date\n",
    "\n",
    "Округлить:\n",
    "1. duration\n",
    "2. mb_used"
   ]
  },
  {
   "cell_type": "markdown",
   "metadata": {},
   "source": [
    "## Подготовьте данные"
   ]
  },
  {
   "cell_type": "code",
   "execution_count": 2,
   "metadata": {},
   "outputs": [],
   "source": [
    "#приводим данные к нужным типам\n",
    "calls['call_date'] = pd.to_datetime(calls['call_date'], format='%Y-%m-%d')\n",
    "internet['session_date'] = pd.to_datetime(internet['session_date'], format='%Y-%m-%d')\n",
    "messages['message_date'] = pd.to_datetime(messages['message_date'], format='%Y-%m-%d')\n",
    "users['reg_date'] = pd.to_datetime(users['reg_date'], format='%Y-%m-%d')\n",
    "users['churn_date'] = pd.to_datetime(users['churn_date'], format='%Y-%m-%d')\n",
    "\n",
    "#округляем данные\n",
    "calls['duration'] = calls['duration'].apply(np.ceil)\n",
    "internet['mb_used'] = internet['mb_used'].apply(np.ceil)\n",
    "\n",
    "#заполнять пустые значения не считаю нужным, так как данных не так много и \"среднее\" или \"нули\" могут сильно повлиять на конечные выводы."
   ]
  },
  {
   "cell_type": "code",
   "execution_count": 3,
   "metadata": {},
   "outputs": [
    {
     "data": {
      "text/html": [
       "<div>\n",
       "<style scoped>\n",
       "    .dataframe tbody tr th:only-of-type {\n",
       "        vertical-align: middle;\n",
       "    }\n",
       "\n",
       "    .dataframe tbody tr th {\n",
       "        vertical-align: top;\n",
       "    }\n",
       "\n",
       "    .dataframe thead th {\n",
       "        text-align: right;\n",
       "    }\n",
       "</style>\n",
       "<table border=\"1\" class=\"dataframe\">\n",
       "  <thead>\n",
       "    <tr style=\"text-align: right;\">\n",
       "      <th></th>\n",
       "      <th>duration</th>\n",
       "      <th>user_id</th>\n",
       "    </tr>\n",
       "  </thead>\n",
       "  <tbody>\n",
       "    <tr>\n",
       "      <td>count</td>\n",
       "      <td>202607.000000</td>\n",
       "      <td>202607.000000</td>\n",
       "    </tr>\n",
       "    <tr>\n",
       "      <td>mean</td>\n",
       "      <td>7.158198</td>\n",
       "      <td>1253.940619</td>\n",
       "    </tr>\n",
       "    <tr>\n",
       "      <td>std</td>\n",
       "      <td>5.959173</td>\n",
       "      <td>144.722751</td>\n",
       "    </tr>\n",
       "    <tr>\n",
       "      <td>min</td>\n",
       "      <td>0.000000</td>\n",
       "      <td>1000.000000</td>\n",
       "    </tr>\n",
       "    <tr>\n",
       "      <td>25%</td>\n",
       "      <td>2.000000</td>\n",
       "      <td>1126.000000</td>\n",
       "    </tr>\n",
       "    <tr>\n",
       "      <td>50%</td>\n",
       "      <td>6.000000</td>\n",
       "      <td>1260.000000</td>\n",
       "    </tr>\n",
       "    <tr>\n",
       "      <td>75%</td>\n",
       "      <td>11.000000</td>\n",
       "      <td>1379.000000</td>\n",
       "    </tr>\n",
       "    <tr>\n",
       "      <td>max</td>\n",
       "      <td>38.000000</td>\n",
       "      <td>1499.000000</td>\n",
       "    </tr>\n",
       "  </tbody>\n",
       "</table>\n",
       "</div>"
      ],
      "text/plain": [
       "            duration        user_id\n",
       "count  202607.000000  202607.000000\n",
       "mean        7.158198    1253.940619\n",
       "std         5.959173     144.722751\n",
       "min         0.000000    1000.000000\n",
       "25%         2.000000    1126.000000\n",
       "50%         6.000000    1260.000000\n",
       "75%        11.000000    1379.000000\n",
       "max        38.000000    1499.000000"
      ]
     },
     "metadata": {},
     "output_type": "display_data"
    },
    {
     "data": {
      "text/html": [
       "<div>\n",
       "<style scoped>\n",
       "    .dataframe tbody tr th:only-of-type {\n",
       "        vertical-align: middle;\n",
       "    }\n",
       "\n",
       "    .dataframe tbody tr th {\n",
       "        vertical-align: top;\n",
       "    }\n",
       "\n",
       "    .dataframe thead th {\n",
       "        text-align: right;\n",
       "    }\n",
       "</style>\n",
       "<table border=\"1\" class=\"dataframe\">\n",
       "  <thead>\n",
       "    <tr style=\"text-align: right;\">\n",
       "      <th></th>\n",
       "      <th>id</th>\n",
       "      <th>call_date</th>\n",
       "      <th>duration</th>\n",
       "      <th>user_id</th>\n",
       "    </tr>\n",
       "  </thead>\n",
       "  <tbody>\n",
       "    <tr>\n",
       "      <td>0</td>\n",
       "      <td>1000_0</td>\n",
       "      <td>2018-07-25</td>\n",
       "      <td>0.0</td>\n",
       "      <td>1000</td>\n",
       "    </tr>\n",
       "    <tr>\n",
       "      <td>1</td>\n",
       "      <td>1000_1</td>\n",
       "      <td>2018-08-17</td>\n",
       "      <td>0.0</td>\n",
       "      <td>1000</td>\n",
       "    </tr>\n",
       "    <tr>\n",
       "      <td>2</td>\n",
       "      <td>1000_2</td>\n",
       "      <td>2018-06-11</td>\n",
       "      <td>3.0</td>\n",
       "      <td>1000</td>\n",
       "    </tr>\n",
       "    <tr>\n",
       "      <td>3</td>\n",
       "      <td>1000_3</td>\n",
       "      <td>2018-09-21</td>\n",
       "      <td>14.0</td>\n",
       "      <td>1000</td>\n",
       "    </tr>\n",
       "    <tr>\n",
       "      <td>4</td>\n",
       "      <td>1000_4</td>\n",
       "      <td>2018-12-15</td>\n",
       "      <td>6.0</td>\n",
       "      <td>1000</td>\n",
       "    </tr>\n",
       "  </tbody>\n",
       "</table>\n",
       "</div>"
      ],
      "text/plain": [
       "       id  call_date  duration  user_id\n",
       "0  1000_0 2018-07-25       0.0     1000\n",
       "1  1000_1 2018-08-17       0.0     1000\n",
       "2  1000_2 2018-06-11       3.0     1000\n",
       "3  1000_3 2018-09-21      14.0     1000\n",
       "4  1000_4 2018-12-15       6.0     1000"
      ]
     },
     "metadata": {},
     "output_type": "display_data"
    },
    {
     "data": {
      "text/html": [
       "<div>\n",
       "<style scoped>\n",
       "    .dataframe tbody tr th:only-of-type {\n",
       "        vertical-align: middle;\n",
       "    }\n",
       "\n",
       "    .dataframe tbody tr th {\n",
       "        vertical-align: top;\n",
       "    }\n",
       "\n",
       "    .dataframe thead th {\n",
       "        text-align: right;\n",
       "    }\n",
       "</style>\n",
       "<table border=\"1\" class=\"dataframe\">\n",
       "  <thead>\n",
       "    <tr style=\"text-align: right;\">\n",
       "      <th></th>\n",
       "      <th>Unnamed: 0</th>\n",
       "      <th>mb_used</th>\n",
       "      <th>user_id</th>\n",
       "    </tr>\n",
       "  </thead>\n",
       "  <tbody>\n",
       "    <tr>\n",
       "      <td>count</td>\n",
       "      <td>149396.000000</td>\n",
       "      <td>149396.000000</td>\n",
       "      <td>149396.000000</td>\n",
       "    </tr>\n",
       "    <tr>\n",
       "      <td>mean</td>\n",
       "      <td>74697.500000</td>\n",
       "      <td>370.622098</td>\n",
       "      <td>1252.099842</td>\n",
       "    </tr>\n",
       "    <tr>\n",
       "      <td>std</td>\n",
       "      <td>43127.054745</td>\n",
       "      <td>278.387019</td>\n",
       "      <td>144.050823</td>\n",
       "    </tr>\n",
       "    <tr>\n",
       "      <td>min</td>\n",
       "      <td>0.000000</td>\n",
       "      <td>0.000000</td>\n",
       "      <td>1000.000000</td>\n",
       "    </tr>\n",
       "    <tr>\n",
       "      <td>25%</td>\n",
       "      <td>37348.750000</td>\n",
       "      <td>139.000000</td>\n",
       "      <td>1130.000000</td>\n",
       "    </tr>\n",
       "    <tr>\n",
       "      <td>50%</td>\n",
       "      <td>74697.500000</td>\n",
       "      <td>349.000000</td>\n",
       "      <td>1251.000000</td>\n",
       "    </tr>\n",
       "    <tr>\n",
       "      <td>75%</td>\n",
       "      <td>112046.250000</td>\n",
       "      <td>560.000000</td>\n",
       "      <td>1380.000000</td>\n",
       "    </tr>\n",
       "    <tr>\n",
       "      <td>max</td>\n",
       "      <td>149395.000000</td>\n",
       "      <td>1725.000000</td>\n",
       "      <td>1499.000000</td>\n",
       "    </tr>\n",
       "  </tbody>\n",
       "</table>\n",
       "</div>"
      ],
      "text/plain": [
       "          Unnamed: 0        mb_used        user_id\n",
       "count  149396.000000  149396.000000  149396.000000\n",
       "mean    74697.500000     370.622098    1252.099842\n",
       "std     43127.054745     278.387019     144.050823\n",
       "min         0.000000       0.000000    1000.000000\n",
       "25%     37348.750000     139.000000    1130.000000\n",
       "50%     74697.500000     349.000000    1251.000000\n",
       "75%    112046.250000     560.000000    1380.000000\n",
       "max    149395.000000    1725.000000    1499.000000"
      ]
     },
     "metadata": {},
     "output_type": "display_data"
    },
    {
     "data": {
      "text/html": [
       "<div>\n",
       "<style scoped>\n",
       "    .dataframe tbody tr th:only-of-type {\n",
       "        vertical-align: middle;\n",
       "    }\n",
       "\n",
       "    .dataframe tbody tr th {\n",
       "        vertical-align: top;\n",
       "    }\n",
       "\n",
       "    .dataframe thead th {\n",
       "        text-align: right;\n",
       "    }\n",
       "</style>\n",
       "<table border=\"1\" class=\"dataframe\">\n",
       "  <thead>\n",
       "    <tr style=\"text-align: right;\">\n",
       "      <th></th>\n",
       "      <th>Unnamed: 0</th>\n",
       "      <th>id</th>\n",
       "      <th>mb_used</th>\n",
       "      <th>session_date</th>\n",
       "      <th>user_id</th>\n",
       "    </tr>\n",
       "  </thead>\n",
       "  <tbody>\n",
       "    <tr>\n",
       "      <td>0</td>\n",
       "      <td>0</td>\n",
       "      <td>1000_0</td>\n",
       "      <td>113.0</td>\n",
       "      <td>2018-11-25</td>\n",
       "      <td>1000</td>\n",
       "    </tr>\n",
       "    <tr>\n",
       "      <td>1</td>\n",
       "      <td>1</td>\n",
       "      <td>1000_1</td>\n",
       "      <td>1053.0</td>\n",
       "      <td>2018-09-07</td>\n",
       "      <td>1000</td>\n",
       "    </tr>\n",
       "    <tr>\n",
       "      <td>2</td>\n",
       "      <td>2</td>\n",
       "      <td>1000_2</td>\n",
       "      <td>1198.0</td>\n",
       "      <td>2018-06-25</td>\n",
       "      <td>1000</td>\n",
       "    </tr>\n",
       "    <tr>\n",
       "      <td>3</td>\n",
       "      <td>3</td>\n",
       "      <td>1000_3</td>\n",
       "      <td>551.0</td>\n",
       "      <td>2018-08-22</td>\n",
       "      <td>1000</td>\n",
       "    </tr>\n",
       "    <tr>\n",
       "      <td>4</td>\n",
       "      <td>4</td>\n",
       "      <td>1000_4</td>\n",
       "      <td>303.0</td>\n",
       "      <td>2018-09-24</td>\n",
       "      <td>1000</td>\n",
       "    </tr>\n",
       "  </tbody>\n",
       "</table>\n",
       "</div>"
      ],
      "text/plain": [
       "   Unnamed: 0      id  mb_used session_date  user_id\n",
       "0           0  1000_0    113.0   2018-11-25     1000\n",
       "1           1  1000_1   1053.0   2018-09-07     1000\n",
       "2           2  1000_2   1198.0   2018-06-25     1000\n",
       "3           3  1000_3    551.0   2018-08-22     1000\n",
       "4           4  1000_4    303.0   2018-09-24     1000"
      ]
     },
     "metadata": {},
     "output_type": "display_data"
    },
    {
     "data": {
      "text/html": [
       "<div>\n",
       "<style scoped>\n",
       "    .dataframe tbody tr th:only-of-type {\n",
       "        vertical-align: middle;\n",
       "    }\n",
       "\n",
       "    .dataframe tbody tr th {\n",
       "        vertical-align: top;\n",
       "    }\n",
       "\n",
       "    .dataframe thead th {\n",
       "        text-align: right;\n",
       "    }\n",
       "</style>\n",
       "<table border=\"1\" class=\"dataframe\">\n",
       "  <thead>\n",
       "    <tr style=\"text-align: right;\">\n",
       "      <th></th>\n",
       "      <th>user_id</th>\n",
       "    </tr>\n",
       "  </thead>\n",
       "  <tbody>\n",
       "    <tr>\n",
       "      <td>count</td>\n",
       "      <td>123036.000000</td>\n",
       "    </tr>\n",
       "    <tr>\n",
       "      <td>mean</td>\n",
       "      <td>1256.989410</td>\n",
       "    </tr>\n",
       "    <tr>\n",
       "      <td>std</td>\n",
       "      <td>143.523967</td>\n",
       "    </tr>\n",
       "    <tr>\n",
       "      <td>min</td>\n",
       "      <td>1000.000000</td>\n",
       "    </tr>\n",
       "    <tr>\n",
       "      <td>25%</td>\n",
       "      <td>1134.000000</td>\n",
       "    </tr>\n",
       "    <tr>\n",
       "      <td>50%</td>\n",
       "      <td>1271.000000</td>\n",
       "    </tr>\n",
       "    <tr>\n",
       "      <td>75%</td>\n",
       "      <td>1381.000000</td>\n",
       "    </tr>\n",
       "    <tr>\n",
       "      <td>max</td>\n",
       "      <td>1499.000000</td>\n",
       "    </tr>\n",
       "  </tbody>\n",
       "</table>\n",
       "</div>"
      ],
      "text/plain": [
       "             user_id\n",
       "count  123036.000000\n",
       "mean     1256.989410\n",
       "std       143.523967\n",
       "min      1000.000000\n",
       "25%      1134.000000\n",
       "50%      1271.000000\n",
       "75%      1381.000000\n",
       "max      1499.000000"
      ]
     },
     "metadata": {},
     "output_type": "display_data"
    },
    {
     "data": {
      "text/html": [
       "<div>\n",
       "<style scoped>\n",
       "    .dataframe tbody tr th:only-of-type {\n",
       "        vertical-align: middle;\n",
       "    }\n",
       "\n",
       "    .dataframe tbody tr th {\n",
       "        vertical-align: top;\n",
       "    }\n",
       "\n",
       "    .dataframe thead th {\n",
       "        text-align: right;\n",
       "    }\n",
       "</style>\n",
       "<table border=\"1\" class=\"dataframe\">\n",
       "  <thead>\n",
       "    <tr style=\"text-align: right;\">\n",
       "      <th></th>\n",
       "      <th>id</th>\n",
       "      <th>message_date</th>\n",
       "      <th>user_id</th>\n",
       "    </tr>\n",
       "  </thead>\n",
       "  <tbody>\n",
       "    <tr>\n",
       "      <td>0</td>\n",
       "      <td>1000_0</td>\n",
       "      <td>2018-06-27</td>\n",
       "      <td>1000</td>\n",
       "    </tr>\n",
       "    <tr>\n",
       "      <td>1</td>\n",
       "      <td>1000_1</td>\n",
       "      <td>2018-10-08</td>\n",
       "      <td>1000</td>\n",
       "    </tr>\n",
       "    <tr>\n",
       "      <td>2</td>\n",
       "      <td>1000_2</td>\n",
       "      <td>2018-08-04</td>\n",
       "      <td>1000</td>\n",
       "    </tr>\n",
       "    <tr>\n",
       "      <td>3</td>\n",
       "      <td>1000_3</td>\n",
       "      <td>2018-06-16</td>\n",
       "      <td>1000</td>\n",
       "    </tr>\n",
       "    <tr>\n",
       "      <td>4</td>\n",
       "      <td>1000_4</td>\n",
       "      <td>2018-12-05</td>\n",
       "      <td>1000</td>\n",
       "    </tr>\n",
       "  </tbody>\n",
       "</table>\n",
       "</div>"
      ],
      "text/plain": [
       "       id message_date  user_id\n",
       "0  1000_0   2018-06-27     1000\n",
       "1  1000_1   2018-10-08     1000\n",
       "2  1000_2   2018-08-04     1000\n",
       "3  1000_3   2018-06-16     1000\n",
       "4  1000_4   2018-12-05     1000"
      ]
     },
     "metadata": {},
     "output_type": "display_data"
    },
    {
     "data": {
      "text/html": [
       "<div>\n",
       "<style scoped>\n",
       "    .dataframe tbody tr th:only-of-type {\n",
       "        vertical-align: middle;\n",
       "    }\n",
       "\n",
       "    .dataframe tbody tr th {\n",
       "        vertical-align: top;\n",
       "    }\n",
       "\n",
       "    .dataframe thead th {\n",
       "        text-align: right;\n",
       "    }\n",
       "</style>\n",
       "<table border=\"1\" class=\"dataframe\">\n",
       "  <thead>\n",
       "    <tr style=\"text-align: right;\">\n",
       "      <th></th>\n",
       "      <th>messages_included</th>\n",
       "      <th>mb_per_month_included</th>\n",
       "      <th>minutes_included</th>\n",
       "      <th>rub_monthly_fee</th>\n",
       "      <th>rub_per_gb</th>\n",
       "      <th>rub_per_message</th>\n",
       "      <th>rub_per_minute</th>\n",
       "    </tr>\n",
       "  </thead>\n",
       "  <tbody>\n",
       "    <tr>\n",
       "      <td>count</td>\n",
       "      <td>2.000000</td>\n",
       "      <td>2.000000</td>\n",
       "      <td>2.000000</td>\n",
       "      <td>2.000000</td>\n",
       "      <td>2.000000</td>\n",
       "      <td>2.000000</td>\n",
       "      <td>2.000000</td>\n",
       "    </tr>\n",
       "    <tr>\n",
       "      <td>mean</td>\n",
       "      <td>525.000000</td>\n",
       "      <td>23040.000000</td>\n",
       "      <td>1750.000000</td>\n",
       "      <td>1250.000000</td>\n",
       "      <td>175.000000</td>\n",
       "      <td>2.000000</td>\n",
       "      <td>2.000000</td>\n",
       "    </tr>\n",
       "    <tr>\n",
       "      <td>std</td>\n",
       "      <td>671.751442</td>\n",
       "      <td>10861.160159</td>\n",
       "      <td>1767.766953</td>\n",
       "      <td>989.949494</td>\n",
       "      <td>35.355339</td>\n",
       "      <td>1.414214</td>\n",
       "      <td>1.414214</td>\n",
       "    </tr>\n",
       "    <tr>\n",
       "      <td>min</td>\n",
       "      <td>50.000000</td>\n",
       "      <td>15360.000000</td>\n",
       "      <td>500.000000</td>\n",
       "      <td>550.000000</td>\n",
       "      <td>150.000000</td>\n",
       "      <td>1.000000</td>\n",
       "      <td>1.000000</td>\n",
       "    </tr>\n",
       "    <tr>\n",
       "      <td>25%</td>\n",
       "      <td>287.500000</td>\n",
       "      <td>19200.000000</td>\n",
       "      <td>1125.000000</td>\n",
       "      <td>900.000000</td>\n",
       "      <td>162.500000</td>\n",
       "      <td>1.500000</td>\n",
       "      <td>1.500000</td>\n",
       "    </tr>\n",
       "    <tr>\n",
       "      <td>50%</td>\n",
       "      <td>525.000000</td>\n",
       "      <td>23040.000000</td>\n",
       "      <td>1750.000000</td>\n",
       "      <td>1250.000000</td>\n",
       "      <td>175.000000</td>\n",
       "      <td>2.000000</td>\n",
       "      <td>2.000000</td>\n",
       "    </tr>\n",
       "    <tr>\n",
       "      <td>75%</td>\n",
       "      <td>762.500000</td>\n",
       "      <td>26880.000000</td>\n",
       "      <td>2375.000000</td>\n",
       "      <td>1600.000000</td>\n",
       "      <td>187.500000</td>\n",
       "      <td>2.500000</td>\n",
       "      <td>2.500000</td>\n",
       "    </tr>\n",
       "    <tr>\n",
       "      <td>max</td>\n",
       "      <td>1000.000000</td>\n",
       "      <td>30720.000000</td>\n",
       "      <td>3000.000000</td>\n",
       "      <td>1950.000000</td>\n",
       "      <td>200.000000</td>\n",
       "      <td>3.000000</td>\n",
       "      <td>3.000000</td>\n",
       "    </tr>\n",
       "  </tbody>\n",
       "</table>\n",
       "</div>"
      ],
      "text/plain": [
       "       messages_included  mb_per_month_included  minutes_included  \\\n",
       "count           2.000000               2.000000          2.000000   \n",
       "mean          525.000000           23040.000000       1750.000000   \n",
       "std           671.751442           10861.160159       1767.766953   \n",
       "min            50.000000           15360.000000        500.000000   \n",
       "25%           287.500000           19200.000000       1125.000000   \n",
       "50%           525.000000           23040.000000       1750.000000   \n",
       "75%           762.500000           26880.000000       2375.000000   \n",
       "max          1000.000000           30720.000000       3000.000000   \n",
       "\n",
       "       rub_monthly_fee  rub_per_gb  rub_per_message  rub_per_minute  \n",
       "count         2.000000    2.000000         2.000000        2.000000  \n",
       "mean       1250.000000  175.000000         2.000000        2.000000  \n",
       "std         989.949494   35.355339         1.414214        1.414214  \n",
       "min         550.000000  150.000000         1.000000        1.000000  \n",
       "25%         900.000000  162.500000         1.500000        1.500000  \n",
       "50%        1250.000000  175.000000         2.000000        2.000000  \n",
       "75%        1600.000000  187.500000         2.500000        2.500000  \n",
       "max        1950.000000  200.000000         3.000000        3.000000  "
      ]
     },
     "metadata": {},
     "output_type": "display_data"
    },
    {
     "data": {
      "text/html": [
       "<div>\n",
       "<style scoped>\n",
       "    .dataframe tbody tr th:only-of-type {\n",
       "        vertical-align: middle;\n",
       "    }\n",
       "\n",
       "    .dataframe tbody tr th {\n",
       "        vertical-align: top;\n",
       "    }\n",
       "\n",
       "    .dataframe thead th {\n",
       "        text-align: right;\n",
       "    }\n",
       "</style>\n",
       "<table border=\"1\" class=\"dataframe\">\n",
       "  <thead>\n",
       "    <tr style=\"text-align: right;\">\n",
       "      <th></th>\n",
       "      <th>messages_included</th>\n",
       "      <th>mb_per_month_included</th>\n",
       "      <th>minutes_included</th>\n",
       "      <th>rub_monthly_fee</th>\n",
       "      <th>rub_per_gb</th>\n",
       "      <th>rub_per_message</th>\n",
       "      <th>rub_per_minute</th>\n",
       "      <th>tariff_name</th>\n",
       "    </tr>\n",
       "  </thead>\n",
       "  <tbody>\n",
       "    <tr>\n",
       "      <td>0</td>\n",
       "      <td>50</td>\n",
       "      <td>15360</td>\n",
       "      <td>500</td>\n",
       "      <td>550</td>\n",
       "      <td>200</td>\n",
       "      <td>3</td>\n",
       "      <td>3</td>\n",
       "      <td>smart</td>\n",
       "    </tr>\n",
       "    <tr>\n",
       "      <td>1</td>\n",
       "      <td>1000</td>\n",
       "      <td>30720</td>\n",
       "      <td>3000</td>\n",
       "      <td>1950</td>\n",
       "      <td>150</td>\n",
       "      <td>1</td>\n",
       "      <td>1</td>\n",
       "      <td>ultra</td>\n",
       "    </tr>\n",
       "  </tbody>\n",
       "</table>\n",
       "</div>"
      ],
      "text/plain": [
       "   messages_included  mb_per_month_included  minutes_included  \\\n",
       "0                 50                  15360               500   \n",
       "1               1000                  30720              3000   \n",
       "\n",
       "   rub_monthly_fee  rub_per_gb  rub_per_message  rub_per_minute tariff_name  \n",
       "0              550         200                3               3       smart  \n",
       "1             1950         150                1               1       ultra  "
      ]
     },
     "metadata": {},
     "output_type": "display_data"
    },
    {
     "data": {
      "text/html": [
       "<div>\n",
       "<style scoped>\n",
       "    .dataframe tbody tr th:only-of-type {\n",
       "        vertical-align: middle;\n",
       "    }\n",
       "\n",
       "    .dataframe tbody tr th {\n",
       "        vertical-align: top;\n",
       "    }\n",
       "\n",
       "    .dataframe thead th {\n",
       "        text-align: right;\n",
       "    }\n",
       "</style>\n",
       "<table border=\"1\" class=\"dataframe\">\n",
       "  <thead>\n",
       "    <tr style=\"text-align: right;\">\n",
       "      <th></th>\n",
       "      <th>user_id</th>\n",
       "      <th>age</th>\n",
       "    </tr>\n",
       "  </thead>\n",
       "  <tbody>\n",
       "    <tr>\n",
       "      <td>count</td>\n",
       "      <td>500.000000</td>\n",
       "      <td>500.00000</td>\n",
       "    </tr>\n",
       "    <tr>\n",
       "      <td>mean</td>\n",
       "      <td>1249.500000</td>\n",
       "      <td>46.58800</td>\n",
       "    </tr>\n",
       "    <tr>\n",
       "      <td>std</td>\n",
       "      <td>144.481833</td>\n",
       "      <td>16.66763</td>\n",
       "    </tr>\n",
       "    <tr>\n",
       "      <td>min</td>\n",
       "      <td>1000.000000</td>\n",
       "      <td>18.00000</td>\n",
       "    </tr>\n",
       "    <tr>\n",
       "      <td>25%</td>\n",
       "      <td>1124.750000</td>\n",
       "      <td>32.00000</td>\n",
       "    </tr>\n",
       "    <tr>\n",
       "      <td>50%</td>\n",
       "      <td>1249.500000</td>\n",
       "      <td>46.00000</td>\n",
       "    </tr>\n",
       "    <tr>\n",
       "      <td>75%</td>\n",
       "      <td>1374.250000</td>\n",
       "      <td>62.00000</td>\n",
       "    </tr>\n",
       "    <tr>\n",
       "      <td>max</td>\n",
       "      <td>1499.000000</td>\n",
       "      <td>75.00000</td>\n",
       "    </tr>\n",
       "  </tbody>\n",
       "</table>\n",
       "</div>"
      ],
      "text/plain": [
       "           user_id        age\n",
       "count   500.000000  500.00000\n",
       "mean   1249.500000   46.58800\n",
       "std     144.481833   16.66763\n",
       "min    1000.000000   18.00000\n",
       "25%    1124.750000   32.00000\n",
       "50%    1249.500000   46.00000\n",
       "75%    1374.250000   62.00000\n",
       "max    1499.000000   75.00000"
      ]
     },
     "metadata": {},
     "output_type": "display_data"
    },
    {
     "data": {
      "text/html": [
       "<div>\n",
       "<style scoped>\n",
       "    .dataframe tbody tr th:only-of-type {\n",
       "        vertical-align: middle;\n",
       "    }\n",
       "\n",
       "    .dataframe tbody tr th {\n",
       "        vertical-align: top;\n",
       "    }\n",
       "\n",
       "    .dataframe thead th {\n",
       "        text-align: right;\n",
       "    }\n",
       "</style>\n",
       "<table border=\"1\" class=\"dataframe\">\n",
       "  <thead>\n",
       "    <tr style=\"text-align: right;\">\n",
       "      <th></th>\n",
       "      <th>user_id</th>\n",
       "      <th>age</th>\n",
       "      <th>churn_date</th>\n",
       "      <th>city</th>\n",
       "      <th>first_name</th>\n",
       "      <th>last_name</th>\n",
       "      <th>reg_date</th>\n",
       "      <th>tariff</th>\n",
       "    </tr>\n",
       "  </thead>\n",
       "  <tbody>\n",
       "    <tr>\n",
       "      <td>0</td>\n",
       "      <td>1000</td>\n",
       "      <td>52</td>\n",
       "      <td>NaT</td>\n",
       "      <td>Краснодар</td>\n",
       "      <td>Рафаил</td>\n",
       "      <td>Верещагин</td>\n",
       "      <td>2018-05-25</td>\n",
       "      <td>ultra</td>\n",
       "    </tr>\n",
       "    <tr>\n",
       "      <td>1</td>\n",
       "      <td>1001</td>\n",
       "      <td>41</td>\n",
       "      <td>NaT</td>\n",
       "      <td>Москва</td>\n",
       "      <td>Иван</td>\n",
       "      <td>Ежов</td>\n",
       "      <td>2018-11-01</td>\n",
       "      <td>smart</td>\n",
       "    </tr>\n",
       "    <tr>\n",
       "      <td>2</td>\n",
       "      <td>1002</td>\n",
       "      <td>59</td>\n",
       "      <td>NaT</td>\n",
       "      <td>Стерлитамак</td>\n",
       "      <td>Евгений</td>\n",
       "      <td>Абрамович</td>\n",
       "      <td>2018-06-17</td>\n",
       "      <td>smart</td>\n",
       "    </tr>\n",
       "    <tr>\n",
       "      <td>3</td>\n",
       "      <td>1003</td>\n",
       "      <td>23</td>\n",
       "      <td>NaT</td>\n",
       "      <td>Москва</td>\n",
       "      <td>Белла</td>\n",
       "      <td>Белякова</td>\n",
       "      <td>2018-08-17</td>\n",
       "      <td>ultra</td>\n",
       "    </tr>\n",
       "    <tr>\n",
       "      <td>4</td>\n",
       "      <td>1004</td>\n",
       "      <td>68</td>\n",
       "      <td>NaT</td>\n",
       "      <td>Новокузнецк</td>\n",
       "      <td>Татьяна</td>\n",
       "      <td>Авдеенко</td>\n",
       "      <td>2018-05-14</td>\n",
       "      <td>ultra</td>\n",
       "    </tr>\n",
       "  </tbody>\n",
       "</table>\n",
       "</div>"
      ],
      "text/plain": [
       "   user_id  age churn_date         city first_name  last_name   reg_date  \\\n",
       "0     1000   52        NaT    Краснодар     Рафаил  Верещагин 2018-05-25   \n",
       "1     1001   41        NaT       Москва       Иван       Ежов 2018-11-01   \n",
       "2     1002   59        NaT  Стерлитамак    Евгений  Абрамович 2018-06-17   \n",
       "3     1003   23        NaT       Москва      Белла   Белякова 2018-08-17   \n",
       "4     1004   68        NaT  Новокузнецк    Татьяна   Авдеенко 2018-05-14   \n",
       "\n",
       "  tariff  \n",
       "0  ultra  \n",
       "1  smart  \n",
       "2  smart  \n",
       "3  ultra  \n",
       "4  ultra  "
      ]
     },
     "metadata": {},
     "output_type": "display_data"
    }
   ],
   "source": [
    "#поиск ошибок\n",
    "for i in [calls, internet, messages, tariffs, users]:\n",
    "    display(i.describe())\n",
    "    display(i.head())"
   ]
  },
  {
   "cell_type": "markdown",
   "metadata": {},
   "source": [
    "Ошибок в данных не обнаружено. На данном этапе данные кажутся реалистичными."
   ]
  },
  {
   "cell_type": "code",
   "execution_count": 4,
   "metadata": {
    "scrolled": true
   },
   "outputs": [
    {
     "data": {
      "text/html": [
       "<div>\n",
       "<style scoped>\n",
       "    .dataframe tbody tr th:only-of-type {\n",
       "        vertical-align: middle;\n",
       "    }\n",
       "\n",
       "    .dataframe tbody tr th {\n",
       "        vertical-align: top;\n",
       "    }\n",
       "\n",
       "    .dataframe thead th {\n",
       "        text-align: right;\n",
       "    }\n",
       "</style>\n",
       "<table border=\"1\" class=\"dataframe\">\n",
       "  <thead>\n",
       "    <tr style=\"text-align: right;\">\n",
       "      <th></th>\n",
       "      <th></th>\n",
       "      <th>calls</th>\n",
       "      <th>duration</th>\n",
       "      <th>message_sent</th>\n",
       "      <th>mb_used</th>\n",
       "      <th>tariff</th>\n",
       "    </tr>\n",
       "    <tr>\n",
       "      <th>user_id</th>\n",
       "      <th>month</th>\n",
       "      <th></th>\n",
       "      <th></th>\n",
       "      <th></th>\n",
       "      <th></th>\n",
       "      <th></th>\n",
       "    </tr>\n",
       "  </thead>\n",
       "  <tbody>\n",
       "    <tr>\n",
       "      <td rowspan=\"5\" valign=\"top\">1000</td>\n",
       "      <td>5</td>\n",
       "      <td>22.0</td>\n",
       "      <td>159.0</td>\n",
       "      <td>22.0</td>\n",
       "      <td>2256.0</td>\n",
       "      <td>ultra</td>\n",
       "    </tr>\n",
       "    <tr>\n",
       "      <td>6</td>\n",
       "      <td>43.0</td>\n",
       "      <td>172.0</td>\n",
       "      <td>60.0</td>\n",
       "      <td>23257.0</td>\n",
       "      <td>ultra</td>\n",
       "    </tr>\n",
       "    <tr>\n",
       "      <td>7</td>\n",
       "      <td>47.0</td>\n",
       "      <td>340.0</td>\n",
       "      <td>75.0</td>\n",
       "      <td>14016.0</td>\n",
       "      <td>ultra</td>\n",
       "    </tr>\n",
       "    <tr>\n",
       "      <td>8</td>\n",
       "      <td>52.0</td>\n",
       "      <td>408.0</td>\n",
       "      <td>81.0</td>\n",
       "      <td>14070.0</td>\n",
       "      <td>ultra</td>\n",
       "    </tr>\n",
       "    <tr>\n",
       "      <td>9</td>\n",
       "      <td>58.0</td>\n",
       "      <td>466.0</td>\n",
       "      <td>57.0</td>\n",
       "      <td>14581.0</td>\n",
       "      <td>ultra</td>\n",
       "    </tr>\n",
       "  </tbody>\n",
       "</table>\n",
       "</div>"
      ],
      "text/plain": [
       "               calls  duration  message_sent  mb_used tariff\n",
       "user_id month                                               \n",
       "1000    5       22.0     159.0          22.0   2256.0  ultra\n",
       "        6       43.0     172.0          60.0  23257.0  ultra\n",
       "        7       47.0     340.0          75.0  14016.0  ultra\n",
       "        8       52.0     408.0          81.0  14070.0  ultra\n",
       "        9       58.0     466.0          57.0  14581.0  ultra"
      ]
     },
     "execution_count": 4,
     "metadata": {},
     "output_type": "execute_result"
    }
   ],
   "source": [
    "# сводная таблица по звонкам\n",
    "calls['month'] = calls['call_date'].dt.month\n",
    "calls_grouped = calls.pivot_table(values='duration', index=['user_id', 'month'], aggfunc=['count','sum'])\n",
    "calls_grouped.columns = ['calls', 'duration']\n",
    "\n",
    "\n",
    "messages['month'] = messages['message_date'].dt.month\n",
    "messages_grouped = messages.pivot_table(values='message_date', index=['user_id', 'month'], aggfunc='count')\n",
    "messages_grouped.columns = ['message_sent']\n",
    "\n",
    "\n",
    "internet['month'] = internet['session_date'].dt.month\n",
    "internet_grouped = internet.pivot_table(values='mb_used', index=['user_id', 'month'], aggfunc='sum')\n",
    "internet_grouped.columns = ['mb_used']\n",
    "\n",
    "data = calls_grouped.merge(messages_grouped, on=['user_id', 'month'], how='outer')\n",
    "data = data.merge(internet_grouped, on=['user_id', 'month'], how='outer')\n",
    "\n",
    "for i in data.index:\n",
    "    data.loc[i, 'tariff'] = users.loc[i[0]-1000, 'tariff']\n",
    "\n",
    "    \n",
    "data['calls'] = data['calls'].fillna(0)\n",
    "data['duration'] = data['duration'].fillna(0)\n",
    "data['message_sent'] = data['message_sent'].fillna(0)\n",
    "data['mb_used'] = data['mb_used'].fillna(0)\n",
    "\n",
    "data.head()\n",
    "\n",
    "#заполню все пустые значения нулем, так как отсутсвтие данных сильно исказит итоговые результаты"
   ]
  },
  {
   "cell_type": "code",
   "execution_count": 5,
   "metadata": {},
   "outputs": [],
   "source": [
    "def revenue(row):\n",
    "    duration = row['duration']\n",
    "    message = row['message_sent']\n",
    "    internet = row['mb_used']\n",
    "    tariff = row['tariff']\n",
    "    calls = row['calls']\n",
    "    \n",
    "    if tariff == 'smart':\n",
    "        duration_revenue = (duration - tariffs.loc[0, 'minutes_included']) * tariffs.loc[0, 'rub_per_minute']\n",
    "        internet_revenue = ((internet - tariffs.loc[0, 'mb_per_month_included']) / 1024) * tariffs.loc[0, 'rub_per_gb']\n",
    "        message_revenue = (message - tariffs.loc[0, 'messages_included']) * tariffs.loc[0, 'rub_per_message']\n",
    "        \n",
    "        if duration_revenue < 0:\n",
    "            duration_revenue = 0\n",
    "        if internet_revenue < 0:\n",
    "            internet_revenue = 0\n",
    "        if message_revenue < 0:\n",
    "            message_revenue = 0\n",
    "            \n",
    "        return (duration_revenue + internet_revenue + message_revenue + message_revenue + tariffs.loc[0, 'rub_monthly_fee'])\n",
    "    else:\n",
    "        duration_revenue = (duration - tariffs.loc[1, 'minutes_included']) * tariffs.loc[1, 'rub_per_minute']\n",
    "        internet_revenue = ((internet - tariffs.loc[1, 'mb_per_month_included']) / 1024) * tariffs.loc[1, 'rub_per_gb']\n",
    "        message_revenue = (message - tariffs.loc[1, 'messages_included']) * tariffs.loc[1, 'rub_per_message']\n",
    "        \n",
    "        if duration_revenue < 0:\n",
    "            duration_revenue = 0\n",
    "        if internet_revenue < 0:\n",
    "            internet_revenue = 0\n",
    "        if message_revenue < 0:\n",
    "            message_revenue = 0\n",
    "            \n",
    "        return (duration_revenue + internet_revenue + message_revenue + message_revenue + tariffs.loc[1, 'rub_monthly_fee'])\n",
    "      \n",
    "data['revenue'] = data.apply(revenue, axis=1)"
   ]
  },
  {
   "cell_type": "markdown",
   "metadata": {},
   "source": [
    "## Проанализируйте данные"
   ]
  },
  {
   "cell_type": "code",
   "execution_count": 6,
   "metadata": {},
   "outputs": [],
   "source": [
    "#Опишите поведение клиентов оператора, исходя из выборки. \n",
    "#Сколько минут разговора, сколько сообщений и какой объём интернет-трафика требуется пользователям каждого тарифа в месяц? \n",
    "#Посчитайте среднее количество, дисперсию и стандартное отклонение. Постройте гистограммы. Опишите распределения.\n",
    "\n",
    "mean_data_per_user = data.pivot_table(index='user_id', values=['duration', 'message_sent', 'mb_used'], aggfunc='mean')\n",
    "\n",
    "for i in users['user_id']:\n",
    "    mean_data_per_user.loc[i, 'tariff'] = users.loc[i-1000, 'tariff']"
   ]
  },
  {
   "cell_type": "code",
   "execution_count": 7,
   "metadata": {
    "scrolled": true
   },
   "outputs": [
    {
     "data": {
      "text/html": [
       "<div>\n",
       "<style scoped>\n",
       "    .dataframe tbody tr th:only-of-type {\n",
       "        vertical-align: middle;\n",
       "    }\n",
       "\n",
       "    .dataframe tbody tr th {\n",
       "        vertical-align: top;\n",
       "    }\n",
       "\n",
       "    .dataframe thead tr th {\n",
       "        text-align: left;\n",
       "    }\n",
       "\n",
       "    .dataframe thead tr:last-of-type th {\n",
       "        text-align: right;\n",
       "    }\n",
       "</style>\n",
       "<table border=\"1\" class=\"dataframe\">\n",
       "  <thead>\n",
       "    <tr>\n",
       "      <th></th>\n",
       "      <th colspan=\"3\" halign=\"left\">mean</th>\n",
       "      <th colspan=\"3\" halign=\"left\">var</th>\n",
       "      <th colspan=\"3\" halign=\"left\">std</th>\n",
       "    </tr>\n",
       "    <tr>\n",
       "      <th></th>\n",
       "      <th>duration</th>\n",
       "      <th>mb_used</th>\n",
       "      <th>message_sent</th>\n",
       "      <th>duration</th>\n",
       "      <th>mb_used</th>\n",
       "      <th>message_sent</th>\n",
       "      <th>duration</th>\n",
       "      <th>mb_used</th>\n",
       "      <th>message_sent</th>\n",
       "    </tr>\n",
       "    <tr>\n",
       "      <th>tariff</th>\n",
       "      <th></th>\n",
       "      <th></th>\n",
       "      <th></th>\n",
       "      <th></th>\n",
       "      <th></th>\n",
       "      <th></th>\n",
       "      <th></th>\n",
       "      <th></th>\n",
       "      <th></th>\n",
       "    </tr>\n",
       "  </thead>\n",
       "  <tbody>\n",
       "    <tr>\n",
       "      <td>smart</td>\n",
       "      <td>419.634803</td>\n",
       "      <td>16201.387920</td>\n",
       "      <td>32.352078</td>\n",
       "      <td>21034.148607</td>\n",
       "      <td>1.284248e+07</td>\n",
       "      <td>702.909910</td>\n",
       "      <td>145.031543</td>\n",
       "      <td>3583.640810</td>\n",
       "      <td>26.512448</td>\n",
       "    </tr>\n",
       "    <tr>\n",
       "      <td>ultra</td>\n",
       "      <td>527.821819</td>\n",
       "      <td>19592.839001</td>\n",
       "      <td>54.030743</td>\n",
       "      <td>79403.551850</td>\n",
       "      <td>6.920167e+07</td>\n",
       "      <td>2149.828793</td>\n",
       "      <td>281.786359</td>\n",
       "      <td>8318.753942</td>\n",
       "      <td>46.366246</td>\n",
       "    </tr>\n",
       "  </tbody>\n",
       "</table>\n",
       "</div>"
      ],
      "text/plain": [
       "              mean                                      var                \\\n",
       "          duration       mb_used message_sent      duration       mb_used   \n",
       "tariff                                                                      \n",
       "smart   419.634803  16201.387920    32.352078  21034.148607  1.284248e+07   \n",
       "ultra   527.821819  19592.839001    54.030743  79403.551850  6.920167e+07   \n",
       "\n",
       "                            std                            \n",
       "       message_sent    duration      mb_used message_sent  \n",
       "tariff                                                     \n",
       "smart    702.909910  145.031543  3583.640810    26.512448  \n",
       "ultra   2149.828793  281.786359  8318.753942    46.366246  "
      ]
     },
     "execution_count": 7,
     "metadata": {},
     "output_type": "execute_result"
    }
   ],
   "source": [
    "general_data = mean_data_per_user.pivot_table(index='tariff', values=['duration', 'mb_used', 'message_sent'], aggfunc=['mean', 'var','std'])\n",
    "general_data"
   ]
  },
  {
   "cell_type": "code",
   "execution_count": 15,
   "metadata": {},
   "outputs": [
    {
     "data": {
      "text/html": [
       "<div>\n",
       "<style scoped>\n",
       "    .dataframe tbody tr th:only-of-type {\n",
       "        vertical-align: middle;\n",
       "    }\n",
       "\n",
       "    .dataframe tbody tr th {\n",
       "        vertical-align: top;\n",
       "    }\n",
       "\n",
       "    .dataframe thead th {\n",
       "        text-align: right;\n",
       "    }\n",
       "</style>\n",
       "<table border=\"1\" class=\"dataframe\">\n",
       "  <thead>\n",
       "    <tr style=\"text-align: right;\">\n",
       "      <th></th>\n",
       "      <th>tariff</th>\n",
       "      <th>smart</th>\n",
       "      <th>ultra</th>\n",
       "    </tr>\n",
       "  </thead>\n",
       "  <tbody>\n",
       "    <tr>\n",
       "      <td rowspan=\"3\" valign=\"top\">mean</td>\n",
       "      <td>duration</td>\n",
       "      <td>419</td>\n",
       "      <td>527</td>\n",
       "    </tr>\n",
       "    <tr>\n",
       "      <td>mb_used</td>\n",
       "      <td>16201</td>\n",
       "      <td>19592</td>\n",
       "    </tr>\n",
       "    <tr>\n",
       "      <td>message_sent</td>\n",
       "      <td>32</td>\n",
       "      <td>54</td>\n",
       "    </tr>\n",
       "    <tr>\n",
       "      <td rowspan=\"3\" valign=\"top\">var</td>\n",
       "      <td>duration</td>\n",
       "      <td>21034</td>\n",
       "      <td>79403</td>\n",
       "    </tr>\n",
       "    <tr>\n",
       "      <td>mb_used</td>\n",
       "      <td>12842481</td>\n",
       "      <td>69201667</td>\n",
       "    </tr>\n",
       "    <tr>\n",
       "      <td>message_sent</td>\n",
       "      <td>702</td>\n",
       "      <td>2149</td>\n",
       "    </tr>\n",
       "    <tr>\n",
       "      <td rowspan=\"3\" valign=\"top\">std</td>\n",
       "      <td>duration</td>\n",
       "      <td>145</td>\n",
       "      <td>281</td>\n",
       "    </tr>\n",
       "    <tr>\n",
       "      <td>mb_used</td>\n",
       "      <td>3583</td>\n",
       "      <td>8318</td>\n",
       "    </tr>\n",
       "    <tr>\n",
       "      <td>message_sent</td>\n",
       "      <td>26</td>\n",
       "      <td>46</td>\n",
       "    </tr>\n",
       "  </tbody>\n",
       "</table>\n",
       "</div>"
      ],
      "text/plain": [
       "tariff                smart     ultra\n",
       "mean duration           419       527\n",
       "     mb_used          16201     19592\n",
       "     message_sent        32        54\n",
       "var  duration         21034     79403\n",
       "     mb_used       12842481  69201667\n",
       "     message_sent       702      2149\n",
       "std  duration           145       281\n",
       "     mb_used           3583      8318\n",
       "     message_sent        26        46"
      ]
     },
     "execution_count": 15,
     "metadata": {},
     "output_type": "execute_result"
    }
   ],
   "source": [
    "### Код ревьювера ###\n",
    "\n",
    "general_data.T.astype('int')"
   ]
  },
  {
   "cell_type": "markdown",
   "metadata": {},
   "source": [
    "Выводы:\n",
    "1. Видим, что среднее количество использованных ГБ в тарифе смарт превышает возможности тарифа\n",
    "2. Дисперсия тарифа ультра значительно выше, чем у тарифа смарт\n",
    "3. Среднее отклонение у тарифа ультра также выше, чем у тарифа смарт"
   ]
  },
  {
   "cell_type": "code",
   "execution_count": 8,
   "metadata": {},
   "outputs": [
    {
     "data": {
      "image/png": "[encoded data removed]",
      "text/plain": [
       "<Figure size 432x288 with 1 Axes>"
      ]
     },
     "metadata": {
      "needs_background": "light"
     },
     "output_type": "display_data"
    },
    {
     "data": {
      "image/png": "[encoded data removed]",
      "text/plain": [
       "<Figure size 432x288 with 1 Axes>"
      ]
     },
     "metadata": {
      "needs_background": "light"
     },
     "output_type": "display_data"
    },
    {
     "data": {
      "image/png": "[encoded data removed]",
      "text/plain": [
       "<Figure size 432x288 with 1 Axes>"
      ]
     },
     "metadata": {
      "needs_background": "light"
     },
     "output_type": "display_data"
    }
   ],
   "source": [
    "smart_data = mean_data_per_user[mean_data_per_user['tariff'] == 'smart']\n",
    "ultra_data = mean_data_per_user[mean_data_per_user['tariff'] == 'ultra']\n",
    "\n",
    "for i in ['duration', 'message_sent', 'mb_used']:\n",
    "    ax = smart_data.plot(kind='hist', y=i, label='smart')\n",
    "    plt.xlabel(i)\n",
    "    ultra_data.plot(kind='hist', y=i, ax=ax, alpha=0.7, label='ultra')"
   ]
  },
  {
   "cell_type": "markdown",
   "metadata": {},
   "source": [
    "Выводы: Видим, что у тарифа ультра данные разбросаны гораздо сильнее, в то время как у тарифа ультра все сжато в определенном диапазоне и видимо присутствует зависимость от возможностей тарифа. Также данные по этому графику подтверждает стандартное отклонение обоих тарифов. "
   ]
  },
  {
   "cell_type": "code",
   "execution_count": 9,
   "metadata": {},
   "outputs": [
    {
     "data": {
      "image/png": "[encoded data removed]",
      "text/plain": [
       "<Figure size 360x360 with 1 Axes>"
      ]
     },
     "metadata": {
      "needs_background": "light"
     },
     "output_type": "display_data"
    },
    {
     "data": {
      "image/png": "[encoded data removed]",
      "text/plain": [
       "<Figure size 360x360 with 1 Axes>"
      ]
     },
     "metadata": {
      "needs_background": "light"
     },
     "output_type": "display_data"
    },
    {
     "data": {
      "image/png": "[encoded data removed]",
      "text/plain": [
       "<Figure size 360x360 with 1 Axes>"
      ]
     },
     "metadata": {
      "needs_background": "light"
     },
     "output_type": "display_data"
    }
   ],
   "source": [
    "for i in ['duration', 'message_sent', 'mb_used']:\n",
    "    sns.catplot(data=mean_data_per_user, x='tariff', y=i, kind='box')"
   ]
  },
  {
   "cell_type": "markdown",
   "metadata": {},
   "source": [
    "Выводы:\n",
    "1. Видим по диаграмме распределения, что большинство данных тарифа смарт не переваливают за 500 минут разговорного времени. Это говорит о том, что пользователи пытаются уложиться в условия тарифа и не хотят переплачивать лишние деньги. В то время мы также видим, что у тарифа ультра нормальные значения заканчиваются 1200 минутами разговора. Это говорит нам о том, что пользователи впринципе крайне редко полностью исчерпывают разговорные минуты в тарифе ультра.\n",
    "2. По сообщениям видим аналогичную картину, что пользователи смарт тарифа стараются уложиться в тариф, в то время как нормальные значения тарифа ультра заканчиваются 175 сообщениями в месяц (из 1000 сообщений возможных в месяц).\n",
    "3. В использовании интернет трафика мы видим иную картину. БОльшая часть пользователей превышают возможности своего тарифа. Однако тем не менее, большая часть пользователей тарифа ультра всё же укладывается в 30 ГБ возможного трафика, в то время как большинство смарт пользователей превышают возможности своего тарифа на 3-4 ГБ.\n"
   ]
  },
  {
   "cell_type": "markdown",
   "metadata": {},
   "source": [
    "## Проверьте гипотезы"
   ]
  },
  {
   "cell_type": "markdown",
   "metadata": {},
   "source": [
    "H0: средняя выручка пользователей тарифа «Ультра» ==  средней выручке пользователей тарифа «Смарт»\n",
    "\n",
    "H1: средняя выручка пользователей тарифа «Ультра» !=  средней выручке пользователей тарифа «Смарт»\n",
    "\n",
    "alpha == 0.05"
   ]
  },
  {
   "cell_type": "code",
   "execution_count": 10,
   "metadata": {},
   "outputs": [
    {
     "name": "stdout",
     "output_type": "stream",
     "text": [
      "p-значение:  5.384627268770379e-283\n",
      "Отвергаем нулевую гипотезу\n"
     ]
    }
   ],
   "source": [
    "smart_mean_revenue = data.query('tariff ==\"smart\"')['revenue']\n",
    "ultra_mean_revenue = data.query('tariff ==\"ultra\"')['revenue']\n",
    "\n",
    "smart_mean_revenue.describe()\n",
    "\n",
    "alpha = .05\n",
    "\n",
    "results = st.ttest_ind(smart_mean_revenue, ultra_mean_revenue, equal_var=False)\n",
    "\n",
    "print('p-значение: ', results.pvalue)\n",
    "\n",
    "if results.pvalue < alpha:\n",
    "    print(\"Отвергаем нулевую гипотезу\")\n",
    "else:\n",
    "    print(\"Не получилось отвергнуть нулевую гипотезу\") "
   ]
  },
  {
   "cell_type": "code",
   "execution_count": 11,
   "metadata": {},
   "outputs": [
    {
     "data": {
      "text/html": [
       "<div>\n",
       "<style scoped>\n",
       "    .dataframe tbody tr th:only-of-type {\n",
       "        vertical-align: middle;\n",
       "    }\n",
       "\n",
       "    .dataframe tbody tr th {\n",
       "        vertical-align: top;\n",
       "    }\n",
       "\n",
       "    .dataframe thead th {\n",
       "        text-align: right;\n",
       "    }\n",
       "</style>\n",
       "<table border=\"1\" class=\"dataframe\">\n",
       "  <thead>\n",
       "    <tr style=\"text-align: right;\">\n",
       "      <th></th>\n",
       "      <th>revenue</th>\n",
       "    </tr>\n",
       "    <tr>\n",
       "      <th>tariff</th>\n",
       "      <th></th>\n",
       "    </tr>\n",
       "  </thead>\n",
       "  <tbody>\n",
       "    <tr>\n",
       "      <td>smart</td>\n",
       "      <td>1250.749197</td>\n",
       "    </tr>\n",
       "    <tr>\n",
       "      <td>ultra</td>\n",
       "      <td>2060.529971</td>\n",
       "    </tr>\n",
       "  </tbody>\n",
       "</table>\n",
       "</div>"
      ],
      "text/plain": [
       "            revenue\n",
       "tariff             \n",
       "smart   1250.749197\n",
       "ultra   2060.529971"
      ]
     },
     "execution_count": 11,
     "metadata": {},
     "output_type": "execute_result"
    }
   ],
   "source": [
    "revenue_tariff = data.pivot_table(index='tariff', values='revenue', aggfunc='mean')\n",
    "revenue_tariff"
   ]
  },
  {
   "cell_type": "markdown",
   "metadata": {},
   "source": [
    "Выводы: Действительно, нулевая гипотеза не подтверждается. Средняя выручка тарифа смарт значительно ниже."
   ]
  },
  {
   "cell_type": "markdown",
   "metadata": {},
   "source": [
    "H0: средняя выручка пользователей из Москвы == выручке пользователей из других регионов\n",
    "\n",
    "H1: средняя выручка пользователей из Москвы != выручке пользователей из других регионов\n",
    "\n",
    "alpha = 0.05"
   ]
  },
  {
   "cell_type": "code",
   "execution_count": 12,
   "metadata": {},
   "outputs": [
    {
     "name": "stdout",
     "output_type": "stream",
     "text": [
      "p-значение 0.5782562496686401\n",
      "Не получилось отвергнуть нулевую гипотезу\n"
     ]
    }
   ],
   "source": [
    "for i in data.index:\n",
    "    data.loc[i, 'city'] = users.loc[i[0]-1000, 'city']\n",
    "\n",
    "moscow_mean_revenue = data.query('city == \"Москва\"')['revenue']\n",
    "cities_mean_revenue = data.query('city != \"Москва\"')['revenue']\n",
    "\n",
    "results2 = st.ttest_ind(moscow_mean_revenue, cities_mean_revenue)\n",
    "\n",
    "print('p-значение', results2.pvalue)\n",
    "\n",
    "if results2.pvalue < alpha:\n",
    "    print(\"Отвергаем нулевую гипотезу\")\n",
    "else:\n",
    "    print(\"Не получилось отвергнуть нулевую гипотезу\") "
   ]
  },
  {
   "cell_type": "code",
   "execution_count": 13,
   "metadata": {},
   "outputs": [
    {
     "data": {
      "text/html": [
       "<div>\n",
       "<style scoped>\n",
       "    .dataframe tbody tr th:only-of-type {\n",
       "        vertical-align: middle;\n",
       "    }\n",
       "\n",
       "    .dataframe tbody tr th {\n",
       "        vertical-align: top;\n",
       "    }\n",
       "\n",
       "    .dataframe thead th {\n",
       "        text-align: right;\n",
       "    }\n",
       "</style>\n",
       "<table border=\"1\" class=\"dataframe\">\n",
       "  <thead>\n",
       "    <tr style=\"text-align: right;\">\n",
       "      <th></th>\n",
       "      <th>revenue</th>\n",
       "    </tr>\n",
       "    <tr>\n",
       "      <th>region</th>\n",
       "      <th></th>\n",
       "    </tr>\n",
       "  </thead>\n",
       "  <tbody>\n",
       "    <tr>\n",
       "      <td>Другой город</td>\n",
       "      <td>1495.194345</td>\n",
       "    </tr>\n",
       "    <tr>\n",
       "      <td>Москва</td>\n",
       "      <td>1514.813587</td>\n",
       "    </tr>\n",
       "  </tbody>\n",
       "</table>\n",
       "</div>"
      ],
      "text/plain": [
       "                  revenue\n",
       "region                   \n",
       "Другой город  1495.194345\n",
       "Москва        1514.813587"
      ]
     },
     "execution_count": 13,
     "metadata": {},
     "output_type": "execute_result"
    }
   ],
   "source": [
    "def region(city):\n",
    "    if city == 'Москва':\n",
    "        return 'Москва'\n",
    "    else:\n",
    "        return 'Другой город'\n",
    "    \n",
    "data['region'] = data['city'].apply(region)\n",
    "region_data = data.pivot_table(index='region', values='revenue', aggfunc='mean')\n",
    "region_data"
   ]
  },
  {
   "cell_type": "code",
   "execution_count": 14,
   "metadata": {},
   "outputs": [
    {
     "data": {
      "text/plain": [
       "<seaborn.axisgrid.FacetGrid at 0x7fd7884fa690>"
      ]
     },
     "execution_count": 14,
     "metadata": {},
     "output_type": "execute_result"
    },
    {
     "data": {
      "image/png": "[encoded data removed]",
      "text/plain": [
       "<Figure size 360x360 with 1 Axes>"
      ]
     },
     "metadata": {
      "needs_background": "light"
     },
     "output_type": "display_data"
    }
   ],
   "source": [
    "sns.catplot(data=data, x='region', y='revenue', kind='box')"
   ]
  },
  {
   "cell_type": "markdown",
   "metadata": {},
   "source": [
    "Выводы: На графике видно, что выручка Москвы и других городов практически не отличаются. Различия между данными получились статистически не значимы (значение p, меньше альфы). "
   ]
  },
  {
   "cell_type": "markdown",
   "metadata": {},
   "source": [
    "## Проверьте гипотезы"
   ]
  },
  {
   "cell_type": "markdown",
   "metadata": {},
   "source": [
    "1. Доходы от тарифа ультра значительно выше: 1250 рублей за смарт и 2060 рублей за ультра\n",
    "2. Средняя выручка Москвы и других городов практически не отличаются\n",
    "3. В среднем, пользователи тарифа смарт переплачивают 700 рублей ежемесячно (помимо стоимости тарифа), в то время как пользователи тарифа ультра переплачивают лишь 110 рублей"
   ]
  }
 ],
 "metadata": {
  "ExecuteTimeLog": [
   {
    "duration": 3329,
    "start_time": "2022-02-21T15:59:59.465Z"
   },
   {
    "duration": 451,
    "start_time": "2022-02-21T16:01:05.952Z"
   },
   {
    "duration": 469,
    "start_time": "2022-02-21T16:02:02.360Z"
   },
   {
    "duration": 439,
    "start_time": "2022-02-21T16:04:33.046Z"
   },
   {
    "duration": 642,
    "start_time": "2022-02-21T16:05:05.946Z"
   },
   {
    "duration": 447,
    "start_time": "2022-02-21T16:05:17.323Z"
   },
   {
    "duration": 3,
    "start_time": "2022-02-21T16:08:38.824Z"
   },
   {
    "duration": 594,
    "start_time": "2022-02-21T16:09:09.906Z"
   },
   {
    "duration": 3,
    "start_time": "2022-02-21T16:09:20.470Z"
   },
   {
    "duration": 440,
    "start_time": "2022-02-21T16:09:48.651Z"
   },
   {
    "duration": 6511,
    "start_time": "2022-02-21T16:15:23.939Z"
   },
   {
    "duration": 17,
    "start_time": "2022-02-21T16:15:36.762Z"
   },
   {
    "duration": 6104,
    "start_time": "2022-02-21T16:16:12.217Z"
   },
   {
    "duration": 12,
    "start_time": "2022-02-21T16:16:25.028Z"
   },
   {
    "duration": 37,
    "start_time": "2022-02-21T16:16:40.823Z"
   },
   {
    "duration": 426,
    "start_time": "2022-02-21T16:21:15.623Z"
   },
   {
    "duration": 319,
    "start_time": "2022-02-21T16:21:37.575Z"
   },
   {
    "duration": 460,
    "start_time": "2022-02-21T16:24:50.169Z"
   },
   {
    "duration": 35,
    "start_time": "2022-02-21T16:24:51.883Z"
   },
   {
    "duration": 16,
    "start_time": "2022-02-21T16:25:00.635Z"
   },
   {
    "duration": 1120,
    "start_time": "2022-02-21T16:27:36.077Z"
   },
   {
    "duration": 56,
    "start_time": "2022-02-21T16:27:37.598Z"
   },
   {
    "duration": 32,
    "start_time": "2022-02-21T16:29:06.735Z"
   },
   {
    "duration": 28,
    "start_time": "2022-02-21T16:29:53.919Z"
   },
   {
    "duration": 30,
    "start_time": "2022-02-21T16:30:47.724Z"
   },
   {
    "duration": 1283,
    "start_time": "2022-02-21T16:31:11.124Z"
   },
   {
    "duration": 18,
    "start_time": "2022-02-21T16:31:35.894Z"
   },
   {
    "duration": 10,
    "start_time": "2022-02-21T16:31:43.199Z"
   },
   {
    "duration": 9,
    "start_time": "2022-02-21T16:31:47.329Z"
   },
   {
    "duration": 77,
    "start_time": "2022-02-21T16:32:30.083Z"
   },
   {
    "duration": 10,
    "start_time": "2022-02-21T16:32:30.703Z"
   },
   {
    "duration": 9,
    "start_time": "2022-02-21T16:34:23.989Z"
   },
   {
    "duration": 36,
    "start_time": "2022-02-21T16:37:25.532Z"
   },
   {
    "duration": 90,
    "start_time": "2022-02-21T16:38:11.102Z"
   },
   {
    "duration": 29,
    "start_time": "2022-02-21T16:38:28.284Z"
   },
   {
    "duration": 402,
    "start_time": "2022-02-21T16:38:39.776Z"
   },
   {
    "duration": 215,
    "start_time": "2022-02-21T16:39:02.968Z"
   },
   {
    "duration": 52,
    "start_time": "2022-02-21T16:46:39.302Z"
   },
   {
    "duration": 106,
    "start_time": "2022-02-21T16:47:00.579Z"
   },
   {
    "duration": 193,
    "start_time": "2022-02-21T16:49:06.962Z"
   },
   {
    "duration": 137,
    "start_time": "2022-02-21T16:57:59.438Z"
   },
   {
    "duration": 326,
    "start_time": "2022-02-21T17:01:10.027Z"
   },
   {
    "duration": 33,
    "start_time": "2022-02-21T17:01:17.464Z"
   },
   {
    "duration": 80,
    "start_time": "2022-02-21T17:03:26.118Z"
   },
   {
    "duration": 43,
    "start_time": "2022-02-21T17:05:13.079Z"
   },
   {
    "duration": 39,
    "start_time": "2022-02-21T17:05:18.130Z"
   },
   {
    "duration": 39,
    "start_time": "2022-02-21T17:05:54.094Z"
   },
   {
    "duration": 44,
    "start_time": "2022-02-21T17:06:19.594Z"
   },
   {
    "duration": 44,
    "start_time": "2022-02-21T17:06:35.115Z"
   },
   {
    "duration": 44,
    "start_time": "2022-02-21T17:06:51.878Z"
   },
   {
    "duration": 40,
    "start_time": "2022-02-21T17:07:48.901Z"
   },
   {
    "duration": 45,
    "start_time": "2022-02-21T17:08:09.523Z"
   },
   {
    "duration": 44,
    "start_time": "2022-02-21T17:08:36.358Z"
   },
   {
    "duration": 48,
    "start_time": "2022-02-21T17:09:45.128Z"
   },
   {
    "duration": 39,
    "start_time": "2022-02-21T17:10:09.860Z"
   },
   {
    "duration": 73,
    "start_time": "2022-02-21T17:11:15.148Z"
   },
   {
    "duration": 392,
    "start_time": "2022-02-21T17:14:52.975Z"
   },
   {
    "duration": 56,
    "start_time": "2022-02-21T17:14:56.459Z"
   },
   {
    "duration": 340,
    "start_time": "2022-02-21T17:35:36.988Z"
   },
   {
    "duration": 35,
    "start_time": "2022-02-21T17:36:50.289Z"
   },
   {
    "duration": 142,
    "start_time": "2022-02-21T17:36:50.752Z"
   },
   {
    "duration": 88,
    "start_time": "2022-02-21T17:36:51.676Z"
   },
   {
    "duration": 43,
    "start_time": "2022-02-21T17:36:52.088Z"
   },
   {
    "duration": 56,
    "start_time": "2022-02-21T17:38:58.055Z"
   },
   {
    "duration": 121,
    "start_time": "2022-02-21T17:43:39.144Z"
   },
   {
    "duration": 108,
    "start_time": "2022-02-21T17:43:57.926Z"
   },
   {
    "duration": 99,
    "start_time": "2022-02-21T17:44:09.946Z"
   },
   {
    "duration": 94,
    "start_time": "2022-02-21T17:44:13.930Z"
   },
   {
    "duration": 95,
    "start_time": "2022-02-21T17:44:27.035Z"
   },
   {
    "duration": 54,
    "start_time": "2022-02-21T17:45:20.400Z"
   },
   {
    "duration": 48,
    "start_time": "2022-02-21T17:45:23.467Z"
   },
   {
    "duration": 70,
    "start_time": "2022-02-21T17:46:02.405Z"
   },
   {
    "duration": 163,
    "start_time": "2022-02-21T17:47:51.338Z"
   },
   {
    "duration": 178,
    "start_time": "2022-02-21T17:47:56.759Z"
   },
   {
    "duration": 72,
    "start_time": "2022-02-21T17:48:01.696Z"
   },
   {
    "duration": 71,
    "start_time": "2022-02-21T17:48:19.988Z"
   },
   {
    "duration": 90,
    "start_time": "2022-02-21T17:49:12.051Z"
   },
   {
    "duration": 88,
    "start_time": "2022-02-21T17:49:21.257Z"
   },
   {
    "duration": 89,
    "start_time": "2022-02-21T17:50:23.506Z"
   },
   {
    "duration": 99,
    "start_time": "2022-02-21T17:50:30.321Z"
   },
   {
    "duration": 95,
    "start_time": "2022-02-21T17:50:39.836Z"
   },
   {
    "duration": 92,
    "start_time": "2022-02-21T17:52:44.190Z"
   },
   {
    "duration": 97,
    "start_time": "2022-02-21T17:52:59.091Z"
   },
   {
    "duration": 99,
    "start_time": "2022-02-21T17:53:11.226Z"
   },
   {
    "duration": 183,
    "start_time": "2022-02-21T17:54:44.785Z"
   },
   {
    "duration": 188,
    "start_time": "2022-02-21T17:54:58.442Z"
   },
   {
    "duration": 186,
    "start_time": "2022-02-21T17:55:09.221Z"
   },
   {
    "duration": 182,
    "start_time": "2022-02-21T17:55:19.072Z"
   },
   {
    "duration": 131,
    "start_time": "2022-02-21T17:58:02.237Z"
   },
   {
    "duration": 109,
    "start_time": "2022-02-21T17:58:08.475Z"
   },
   {
    "duration": 1288,
    "start_time": "2022-02-21T17:58:22.950Z"
   },
   {
    "duration": 115,
    "start_time": "2022-02-21T17:58:29.569Z"
   },
   {
    "duration": 117,
    "start_time": "2022-02-21T17:59:19.354Z"
   },
   {
    "duration": 107,
    "start_time": "2022-02-21T17:59:26.693Z"
   },
   {
    "duration": 116,
    "start_time": "2022-02-21T17:59:34.489Z"
   },
   {
    "duration": 118,
    "start_time": "2022-02-21T17:59:40.585Z"
   },
   {
    "duration": 169,
    "start_time": "2022-02-21T18:01:43.597Z"
   },
   {
    "duration": 434,
    "start_time": "2022-02-21T18:03:43.071Z"
   },
   {
    "duration": 130,
    "start_time": "2022-02-21T18:03:50.826Z"
   },
   {
    "duration": 452,
    "start_time": "2022-02-21T18:04:23.387Z"
   },
   {
    "duration": 115,
    "start_time": "2022-02-21T18:04:39.849Z"
   },
   {
    "duration": 135,
    "start_time": "2022-02-21T18:05:09.111Z"
   },
   {
    "duration": 1141,
    "start_time": "2022-02-21T18:05:33.479Z"
   },
   {
    "duration": 96,
    "start_time": "2022-02-21T18:05:34.622Z"
   },
   {
    "duration": 165,
    "start_time": "2022-02-21T18:05:34.721Z"
   },
   {
    "duration": 543,
    "start_time": "2022-02-21T18:05:35.849Z"
   },
   {
    "duration": 466,
    "start_time": "2022-02-21T18:06:23.467Z"
   },
   {
    "duration": 146,
    "start_time": "2022-02-21T18:06:26.791Z"
   },
   {
    "duration": 379,
    "start_time": "2022-02-21T18:07:09.094Z"
   },
   {
    "duration": 163,
    "start_time": "2022-02-21T18:07:20.170Z"
   },
   {
    "duration": 148,
    "start_time": "2022-02-21T18:07:49.006Z"
   },
   {
    "duration": 142,
    "start_time": "2022-02-21T18:07:57.227Z"
   },
   {
    "duration": 149,
    "start_time": "2022-02-21T18:08:13.606Z"
   },
   {
    "duration": 338,
    "start_time": "2022-02-21T18:09:28.027Z"
   },
   {
    "duration": 308,
    "start_time": "2022-02-21T18:10:14.228Z"
   },
   {
    "duration": 299,
    "start_time": "2022-02-21T18:10:54.180Z"
   },
   {
    "duration": 271,
    "start_time": "2022-02-21T18:11:45.830Z"
   },
   {
    "duration": 275,
    "start_time": "2022-02-21T18:12:06.290Z"
   },
   {
    "duration": 287,
    "start_time": "2022-02-21T18:13:02.010Z"
   },
   {
    "duration": 477,
    "start_time": "2022-02-21T18:13:13.823Z"
   },
   {
    "duration": 957,
    "start_time": "2022-02-21T18:13:37.503Z"
   },
   {
    "duration": 72,
    "start_time": "2022-02-21T18:13:38.462Z"
   },
   {
    "duration": 120,
    "start_time": "2022-02-21T18:13:39.665Z"
   },
   {
    "duration": 292,
    "start_time": "2022-02-21T18:13:40.639Z"
   },
   {
    "duration": 310,
    "start_time": "2022-02-21T18:13:44.923Z"
   },
   {
    "duration": 409,
    "start_time": "2022-02-21T18:14:31.843Z"
   },
   {
    "duration": 70,
    "start_time": "2022-02-21T18:14:32.947Z"
   },
   {
    "duration": 123,
    "start_time": "2022-02-21T18:14:33.142Z"
   },
   {
    "duration": 289,
    "start_time": "2022-02-21T18:14:33.668Z"
   },
   {
    "duration": 293,
    "start_time": "2022-02-21T18:14:42.070Z"
   },
   {
    "duration": 510,
    "start_time": "2022-02-21T18:15:53.482Z"
   },
   {
    "duration": 84,
    "start_time": "2022-02-21T18:15:59.962Z"
   },
   {
    "duration": 67,
    "start_time": "2022-02-21T18:16:06.725Z"
   },
   {
    "duration": 293,
    "start_time": "2022-02-21T18:16:09.767Z"
   },
   {
    "duration": 302,
    "start_time": "2022-02-21T18:16:40.989Z"
   },
   {
    "duration": 298,
    "start_time": "2022-02-21T18:25:37.630Z"
   },
   {
    "duration": 304,
    "start_time": "2022-02-21T18:25:48.045Z"
   },
   {
    "duration": 288,
    "start_time": "2022-02-21T18:26:00.352Z"
   },
   {
    "duration": 305,
    "start_time": "2022-02-21T18:27:00.418Z"
   },
   {
    "duration": 307,
    "start_time": "2022-02-21T18:28:52.156Z"
   },
   {
    "duration": 297,
    "start_time": "2022-02-21T18:29:20.270Z"
   },
   {
    "duration": 2853,
    "start_time": "2022-02-22T14:29:43.181Z"
   },
   {
    "duration": 170,
    "start_time": "2022-02-22T14:29:46.037Z"
   },
   {
    "duration": 302,
    "start_time": "2022-02-22T14:29:46.212Z"
   },
   {
    "duration": 496,
    "start_time": "2022-02-22T14:29:46.517Z"
   },
   {
    "duration": 449,
    "start_time": "2022-02-22T14:30:13.799Z"
   },
   {
    "duration": 4,
    "start_time": "2022-02-22T14:30:18.213Z"
   },
   {
    "duration": 16,
    "start_time": "2022-02-22T14:43:16.332Z"
   },
   {
    "duration": 421,
    "start_time": "2022-02-22T14:46:59.601Z"
   },
   {
    "duration": 442,
    "start_time": "2022-02-22T14:47:03.690Z"
   },
   {
    "duration": 429,
    "start_time": "2022-02-22T14:47:20.992Z"
   },
   {
    "duration": 433,
    "start_time": "2022-02-22T14:47:24.983Z"
   },
   {
    "duration": 441,
    "start_time": "2022-02-22T14:47:32.838Z"
   },
   {
    "duration": 501,
    "start_time": "2022-02-22T14:47:51.502Z"
   },
   {
    "duration": 425,
    "start_time": "2022-02-22T14:48:12.348Z"
   },
   {
    "duration": 442,
    "start_time": "2022-02-22T14:48:39.895Z"
   },
   {
    "duration": 443,
    "start_time": "2022-02-22T14:52:38.918Z"
   },
   {
    "duration": 949,
    "start_time": "2022-02-22T14:53:27.308Z"
   },
   {
    "duration": 587,
    "start_time": "2022-02-22T14:53:31.534Z"
   },
   {
    "duration": 832,
    "start_time": "2022-02-22T14:54:41.878Z"
   },
   {
    "duration": 544,
    "start_time": "2022-02-22T14:54:50.532Z"
   },
   {
    "duration": 525,
    "start_time": "2022-02-22T14:56:35.211Z"
   },
   {
    "duration": 523,
    "start_time": "2022-02-22T14:57:13.852Z"
   },
   {
    "duration": 493,
    "start_time": "2022-02-22T14:57:17.653Z"
   },
   {
    "duration": 547,
    "start_time": "2022-02-22T14:57:21.747Z"
   },
   {
    "duration": 494,
    "start_time": "2022-02-22T14:57:43.690Z"
   },
   {
    "duration": 2005,
    "start_time": "2022-02-22T14:57:52.167Z"
   },
   {
    "duration": 118,
    "start_time": "2022-02-22T14:57:54.180Z"
   },
   {
    "duration": 241,
    "start_time": "2022-02-22T14:57:54.300Z"
   },
   {
    "duration": 491,
    "start_time": "2022-02-22T14:57:54.544Z"
   },
   {
    "duration": 441,
    "start_time": "2022-02-22T15:01:52.256Z"
   },
   {
    "duration": 440,
    "start_time": "2022-02-22T15:01:57.357Z"
   },
   {
    "duration": 3704,
    "start_time": "2022-02-22T15:03:33.759Z"
   },
   {
    "duration": 4366,
    "start_time": "2022-02-22T15:03:39.036Z"
   },
   {
    "duration": 10830,
    "start_time": "2022-02-22T15:05:08.835Z"
   },
   {
    "duration": 3716,
    "start_time": "2022-02-22T15:05:28.912Z"
   },
   {
    "duration": 3925,
    "start_time": "2022-02-22T15:06:57.700Z"
   },
   {
    "duration": 3563,
    "start_time": "2022-02-22T15:07:22.687Z"
   },
   {
    "duration": 4728,
    "start_time": "2022-02-22T15:08:46.246Z"
   },
   {
    "duration": 5979,
    "start_time": "2022-02-22T15:09:10.536Z"
   },
   {
    "duration": 3880,
    "start_time": "2022-02-22T15:09:21.268Z"
   },
   {
    "duration": 4227,
    "start_time": "2022-02-22T15:09:37.604Z"
   },
   {
    "duration": 3614,
    "start_time": "2022-02-22T15:09:47.352Z"
   },
   {
    "duration": 4806,
    "start_time": "2022-02-22T15:09:59.463Z"
   },
   {
    "duration": 4864,
    "start_time": "2022-02-22T15:10:05.133Z"
   },
   {
    "duration": 5361,
    "start_time": "2022-02-22T15:11:27.966Z"
   },
   {
    "duration": 4698,
    "start_time": "2022-02-22T15:11:36.750Z"
   },
   {
    "duration": 3920,
    "start_time": "2022-02-22T15:11:43.927Z"
   },
   {
    "duration": 6003,
    "start_time": "2022-02-22T15:12:14.052Z"
   },
   {
    "duration": 3831,
    "start_time": "2022-02-22T15:12:32.734Z"
   },
   {
    "duration": 1003,
    "start_time": "2022-02-22T15:14:56.923Z"
   },
   {
    "duration": 3997,
    "start_time": "2022-02-22T15:15:04.471Z"
   },
   {
    "duration": 3889,
    "start_time": "2022-02-22T15:15:48.701Z"
   },
   {
    "duration": 5660,
    "start_time": "2022-02-22T15:16:47.875Z"
   },
   {
    "duration": 3972,
    "start_time": "2022-02-22T15:17:01.317Z"
   },
   {
    "duration": 3868,
    "start_time": "2022-02-22T15:17:20.938Z"
   },
   {
    "duration": 3671,
    "start_time": "2022-02-22T15:17:54.168Z"
   },
   {
    "duration": 139,
    "start_time": "2022-02-22T15:18:27.922Z"
   },
   {
    "duration": 109,
    "start_time": "2022-02-22T15:18:39.044Z"
   },
   {
    "duration": 4224,
    "start_time": "2022-02-22T15:19:07.092Z"
   },
   {
    "duration": 12585,
    "start_time": "2022-02-22T15:19:25.427Z"
   },
   {
    "duration": 4240,
    "start_time": "2022-02-22T15:20:04.633Z"
   },
   {
    "duration": 3636,
    "start_time": "2022-02-22T15:20:24.310Z"
   },
   {
    "duration": 3687,
    "start_time": "2022-02-22T15:29:09.488Z"
   },
   {
    "duration": 3738,
    "start_time": "2022-02-22T15:29:14.132Z"
   },
   {
    "duration": 3732,
    "start_time": "2022-02-22T15:42:20.565Z"
   },
   {
    "duration": 4222,
    "start_time": "2022-02-22T15:44:25.024Z"
   },
   {
    "duration": 3905,
    "start_time": "2022-02-22T15:44:30.205Z"
   },
   {
    "duration": 3855,
    "start_time": "2022-02-22T15:44:36.271Z"
   },
   {
    "duration": 3619,
    "start_time": "2022-02-22T15:55:57.838Z"
   },
   {
    "duration": 1066,
    "start_time": "2022-02-22T16:11:26.020Z"
   },
   {
    "duration": 1141,
    "start_time": "2022-02-22T16:11:49.175Z"
   },
   {
    "duration": 1082,
    "start_time": "2022-02-22T16:11:54.778Z"
   },
   {
    "duration": 1128,
    "start_time": "2022-02-22T16:12:14.684Z"
   },
   {
    "duration": 1474,
    "start_time": "2022-02-22T16:17:51.454Z"
   },
   {
    "duration": 1235,
    "start_time": "2022-02-22T16:17:55.951Z"
   },
   {
    "duration": 422,
    "start_time": "2022-02-22T16:20:23.781Z"
   },
   {
    "duration": 22,
    "start_time": "2022-02-22T16:20:42.862Z"
   },
   {
    "duration": 752,
    "start_time": "2022-02-22T17:00:22.127Z"
   },
   {
    "duration": 15,
    "start_time": "2022-02-22T17:00:34.668Z"
   },
   {
    "duration": 29,
    "start_time": "2022-02-22T17:00:39.474Z"
   },
   {
    "duration": 26,
    "start_time": "2022-02-22T17:01:02.208Z"
   },
   {
    "duration": 434,
    "start_time": "2022-02-22T17:01:50.224Z"
   },
   {
    "duration": 363,
    "start_time": "2022-02-22T17:04:32.450Z"
   },
   {
    "duration": 383,
    "start_time": "2022-02-22T17:04:36.745Z"
   },
   {
    "duration": 24,
    "start_time": "2022-02-22T17:04:47.730Z"
   },
   {
    "duration": 366,
    "start_time": "2022-02-22T17:05:05.213Z"
   },
   {
    "duration": 24,
    "start_time": "2022-02-22T17:05:14.936Z"
   },
   {
    "duration": 22,
    "start_time": "2022-02-22T17:05:55.999Z"
   },
   {
    "duration": 1254,
    "start_time": "2022-02-22T17:06:25.893Z"
   },
   {
    "duration": 24,
    "start_time": "2022-02-22T17:09:34.200Z"
   },
   {
    "duration": 23,
    "start_time": "2022-02-22T17:09:39.470Z"
   },
   {
    "duration": 107,
    "start_time": "2022-02-22T17:10:54.087Z"
   },
   {
    "duration": 25,
    "start_time": "2022-02-22T17:10:57.709Z"
   },
   {
    "duration": 36,
    "start_time": "2022-02-22T17:18:33.388Z"
   },
   {
    "duration": 35,
    "start_time": "2022-02-22T17:18:48.637Z"
   },
   {
    "duration": 36,
    "start_time": "2022-02-22T17:18:54.764Z"
   },
   {
    "duration": 587,
    "start_time": "2022-02-22T17:20:41.601Z"
   },
   {
    "duration": 103,
    "start_time": "2022-02-22T17:20:42.191Z"
   },
   {
    "duration": 197,
    "start_time": "2022-02-22T17:20:42.344Z"
   },
   {
    "duration": 3849,
    "start_time": "2022-02-22T17:20:42.731Z"
   },
   {
    "duration": 1176,
    "start_time": "2022-02-22T17:20:46.583Z"
   },
   {
    "duration": 135,
    "start_time": "2022-02-22T17:20:47.762Z"
   },
   {
    "duration": 1158,
    "start_time": "2022-02-22T17:20:53.854Z"
   },
   {
    "duration": 1162,
    "start_time": "2022-02-22T17:21:00.556Z"
   },
   {
    "duration": 444,
    "start_time": "2022-02-22T17:24:02.642Z"
   },
   {
    "duration": 348,
    "start_time": "2022-02-22T17:25:08.169Z"
   },
   {
    "duration": 398,
    "start_time": "2022-02-22T17:25:12.113Z"
   },
   {
    "duration": 354,
    "start_time": "2022-02-22T17:25:17.669Z"
   },
   {
    "duration": 2145,
    "start_time": "2022-02-22T17:25:28.280Z"
   },
   {
    "duration": 121,
    "start_time": "2022-02-22T17:25:30.429Z"
   },
   {
    "duration": 221,
    "start_time": "2022-02-22T17:25:30.557Z"
   },
   {
    "duration": 4462,
    "start_time": "2022-02-22T17:25:30.785Z"
   },
   {
    "duration": 1284,
    "start_time": "2022-02-22T17:25:35.250Z"
   },
   {
    "duration": 455,
    "start_time": "2022-02-22T17:25:36.538Z"
   },
   {
    "duration": 597,
    "start_time": "2022-02-22T17:25:59.230Z"
   },
   {
    "duration": 595,
    "start_time": "2022-02-22T17:26:12.584Z"
   },
   {
    "duration": 25,
    "start_time": "2022-02-22T17:28:45.478Z"
   },
   {
    "duration": 303,
    "start_time": "2022-02-23T16:05:43.701Z"
   },
   {
    "duration": 2000,
    "start_time": "2022-02-23T16:05:53.828Z"
   },
   {
    "duration": 114,
    "start_time": "2022-02-23T16:05:55.831Z"
   },
   {
    "duration": 189,
    "start_time": "2022-02-23T16:05:55.948Z"
   },
   {
    "duration": 2380,
    "start_time": "2022-02-23T16:05:56.139Z"
   },
   {
    "duration": 727,
    "start_time": "2022-02-23T16:05:58.521Z"
   },
   {
    "duration": 399,
    "start_time": "2022-02-23T16:05:59.250Z"
   },
   {
    "duration": 33,
    "start_time": "2022-02-23T16:06:06.680Z"
   },
   {
    "duration": 200,
    "start_time": "2022-02-23T16:07:36.831Z"
   },
   {
    "duration": 32,
    "start_time": "2022-02-23T16:07:48.092Z"
   },
   {
    "duration": 16,
    "start_time": "2022-02-23T16:16:51.691Z"
   },
   {
    "duration": 15,
    "start_time": "2022-02-23T16:17:19.152Z"
   },
   {
    "duration": 207,
    "start_time": "2022-02-23T16:19:42.273Z"
   },
   {
    "duration": 199,
    "start_time": "2022-02-23T16:19:58.972Z"
   },
   {
    "duration": 32,
    "start_time": "2022-02-23T16:21:38.664Z"
   },
   {
    "duration": 346,
    "start_time": "2022-02-23T16:23:04.513Z"
   },
   {
    "duration": 27,
    "start_time": "2022-02-23T16:23:14.092Z"
   },
   {
    "duration": 30,
    "start_time": "2022-02-23T16:23:30.230Z"
   },
   {
    "duration": 29,
    "start_time": "2022-02-23T16:40:18.796Z"
   },
   {
    "duration": 5928,
    "start_time": "2022-02-23T16:42:53.850Z"
   },
   {
    "duration": 5342,
    "start_time": "2022-02-23T16:43:11.341Z"
   },
   {
    "duration": 332,
    "start_time": "2022-02-23T16:43:19.457Z"
   },
   {
    "duration": 200,
    "start_time": "2022-02-23T16:45:21.248Z"
   },
   {
    "duration": 490,
    "start_time": "2022-02-23T16:45:36.600Z"
   },
   {
    "duration": 74,
    "start_time": "2022-02-23T16:45:37.127Z"
   },
   {
    "duration": 145,
    "start_time": "2022-02-23T16:45:37.315Z"
   },
   {
    "duration": 2361,
    "start_time": "2022-02-23T16:45:37.689Z"
   },
   {
    "duration": 646,
    "start_time": "2022-02-23T16:45:40.053Z"
   },
   {
    "duration": 280,
    "start_time": "2022-02-23T16:45:40.702Z"
   },
   {
    "duration": 44,
    "start_time": "2022-02-23T16:45:40.984Z"
   },
   {
    "duration": 230,
    "start_time": "2022-02-23T16:45:41.030Z"
   },
   {
    "duration": 332,
    "start_time": "2022-02-23T16:46:15.070Z"
   },
   {
    "duration": 64,
    "start_time": "2022-02-23T16:46:37.387Z"
   },
   {
    "duration": 227,
    "start_time": "2022-02-23T16:46:44.177Z"
   },
   {
    "duration": 15,
    "start_time": "2022-02-23T16:47:33.949Z"
   },
   {
    "duration": 15,
    "start_time": "2022-02-23T16:47:59.918Z"
   },
   {
    "duration": 229,
    "start_time": "2022-02-23T16:48:20.077Z"
   },
   {
    "duration": 14,
    "start_time": "2022-02-23T16:48:30.499Z"
   },
   {
    "duration": 15,
    "start_time": "2022-02-23T16:48:47.055Z"
   },
   {
    "duration": 13,
    "start_time": "2022-02-23T16:48:50.380Z"
   },
   {
    "duration": 13,
    "start_time": "2022-02-23T16:49:00.421Z"
   },
   {
    "duration": 14,
    "start_time": "2022-02-23T16:53:14.252Z"
   },
   {
    "duration": 15,
    "start_time": "2022-02-23T16:53:15.863Z"
   },
   {
    "duration": 137,
    "start_time": "2022-02-23T16:53:51.263Z"
   },
   {
    "duration": 129,
    "start_time": "2022-02-23T16:53:58.896Z"
   },
   {
    "duration": 142,
    "start_time": "2022-02-23T16:54:26.176Z"
   },
   {
    "duration": 227,
    "start_time": "2022-02-23T16:54:29.935Z"
   },
   {
    "duration": 126,
    "start_time": "2022-02-23T16:55:15.869Z"
   },
   {
    "duration": 198,
    "start_time": "2022-02-23T16:55:48.841Z"
   },
   {
    "duration": 202,
    "start_time": "2022-02-23T16:56:01.560Z"
   },
   {
    "duration": 76,
    "start_time": "2022-02-23T16:56:50.059Z"
   },
   {
    "duration": 587,
    "start_time": "2022-02-23T16:56:53.592Z"
   },
   {
    "duration": 608,
    "start_time": "2022-02-23T17:02:06.698Z"
   },
   {
    "duration": 344,
    "start_time": "2022-02-23T17:02:20.334Z"
   },
   {
    "duration": 1757,
    "start_time": "2022-02-23T17:03:42.808Z"
   },
   {
    "duration": 86,
    "start_time": "2022-02-23T17:03:44.567Z"
   },
   {
    "duration": 141,
    "start_time": "2022-02-23T17:03:44.656Z"
   },
   {
    "duration": 2398,
    "start_time": "2022-02-23T17:03:44.800Z"
   },
   {
    "duration": 612,
    "start_time": "2022-02-23T17:03:47.200Z"
   },
   {
    "duration": 242,
    "start_time": "2022-02-23T17:03:47.814Z"
   },
   {
    "duration": 12,
    "start_time": "2022-02-23T17:03:48.058Z"
   },
   {
    "duration": 16,
    "start_time": "2022-02-23T17:03:48.072Z"
   },
   {
    "duration": 34,
    "start_time": "2022-02-23T17:03:48.091Z"
   },
   {
    "duration": 615,
    "start_time": "2022-02-23T17:03:48.127Z"
   },
   {
    "duration": 217,
    "start_time": "2022-02-23T17:04:47.707Z"
   },
   {
    "duration": 14,
    "start_time": "2022-02-23T17:05:24.337Z"
   },
   {
    "duration": 11,
    "start_time": "2022-02-23T17:05:24.905Z"
   },
   {
    "duration": 12,
    "start_time": "2022-02-23T17:05:25.310Z"
   },
   {
    "duration": 604,
    "start_time": "2022-02-23T17:05:29.456Z"
   },
   {
    "duration": 654,
    "start_time": "2022-02-23T17:05:46.707Z"
   },
   {
    "duration": 1621,
    "start_time": "2022-02-23T17:06:10.427Z"
   },
   {
    "duration": 121,
    "start_time": "2022-02-23T17:06:12.051Z"
   },
   {
    "duration": 176,
    "start_time": "2022-02-23T17:06:12.175Z"
   },
   {
    "duration": 2385,
    "start_time": "2022-02-23T17:06:12.353Z"
   },
   {
    "duration": 600,
    "start_time": "2022-02-23T17:06:14.740Z"
   },
   {
    "duration": 75,
    "start_time": "2022-02-23T17:06:15.342Z"
   },
   {
    "duration": -29,
    "start_time": "2022-02-23T17:06:15.449Z"
   },
   {
    "duration": -30,
    "start_time": "2022-02-23T17:06:15.451Z"
   },
   {
    "duration": -30,
    "start_time": "2022-02-23T17:06:15.452Z"
   },
   {
    "duration": -30,
    "start_time": "2022-02-23T17:06:15.453Z"
   },
   {
    "duration": 258,
    "start_time": "2022-02-23T17:06:20.291Z"
   },
   {
    "duration": 15,
    "start_time": "2022-02-23T17:06:21.173Z"
   },
   {
    "duration": 12,
    "start_time": "2022-02-23T17:06:21.751Z"
   },
   {
    "duration": 10,
    "start_time": "2022-02-23T17:06:22.569Z"
   },
   {
    "duration": 556,
    "start_time": "2022-02-23T17:06:23.026Z"
   },
   {
    "duration": 600,
    "start_time": "2022-02-23T17:06:30.630Z"
   },
   {
    "duration": 531,
    "start_time": "2022-02-23T17:07:29.689Z"
   },
   {
    "duration": 221,
    "start_time": "2022-02-23T17:07:30.222Z"
   },
   {
    "duration": 226,
    "start_time": "2022-02-23T17:07:31.090Z"
   },
   {
    "duration": 1736,
    "start_time": "2022-02-23T17:07:39.615Z"
   },
   {
    "duration": 94,
    "start_time": "2022-02-23T17:07:41.354Z"
   },
   {
    "duration": 185,
    "start_time": "2022-02-23T17:07:41.451Z"
   },
   {
    "duration": 2592,
    "start_time": "2022-02-23T17:07:41.639Z"
   },
   {
    "duration": 649,
    "start_time": "2022-02-23T17:07:44.233Z"
   },
   {
    "duration": 350,
    "start_time": "2022-02-23T17:07:44.884Z"
   },
   {
    "duration": -40,
    "start_time": "2022-02-23T17:07:45.276Z"
   },
   {
    "duration": -40,
    "start_time": "2022-02-23T17:07:45.278Z"
   },
   {
    "duration": -40,
    "start_time": "2022-02-23T17:07:45.279Z"
   },
   {
    "duration": -40,
    "start_time": "2022-02-23T17:07:45.280Z"
   },
   {
    "duration": 212,
    "start_time": "2022-02-23T17:07:58.617Z"
   },
   {
    "duration": 22,
    "start_time": "2022-02-23T17:08:01.349Z"
   },
   {
    "duration": 20,
    "start_time": "2022-02-23T17:08:01.680Z"
   },
   {
    "duration": 13,
    "start_time": "2022-02-23T17:08:02.183Z"
   },
   {
    "duration": 579,
    "start_time": "2022-02-23T17:08:02.847Z"
   },
   {
    "duration": 601,
    "start_time": "2022-02-23T17:08:06.739Z"
   },
   {
    "duration": 29,
    "start_time": "2022-02-23T17:10:21.929Z"
   },
   {
    "duration": 678,
    "start_time": "2022-02-23T17:11:11.634Z"
   },
   {
    "duration": 684,
    "start_time": "2022-02-23T17:12:07.784Z"
   },
   {
    "duration": 727,
    "start_time": "2022-02-23T17:12:27.441Z"
   },
   {
    "duration": 705,
    "start_time": "2022-02-23T17:12:32.142Z"
   },
   {
    "duration": 704,
    "start_time": "2022-02-23T17:13:11.904Z"
   },
   {
    "duration": 674,
    "start_time": "2022-02-23T17:13:18.908Z"
   },
   {
    "duration": 14,
    "start_time": "2022-02-23T17:13:30.948Z"
   },
   {
    "duration": 15,
    "start_time": "2022-02-23T17:13:40.684Z"
   },
   {
    "duration": 680,
    "start_time": "2022-02-23T17:13:43.629Z"
   },
   {
    "duration": 685,
    "start_time": "2022-02-23T17:13:51.600Z"
   },
   {
    "duration": 268,
    "start_time": "2022-02-24T14:54:21.893Z"
   },
   {
    "duration": 240,
    "start_time": "2022-02-24T14:54:56.637Z"
   },
   {
    "duration": 1803,
    "start_time": "2022-02-24T14:55:10.125Z"
   },
   {
    "duration": 85,
    "start_time": "2022-02-24T14:55:11.930Z"
   },
   {
    "duration": 169,
    "start_time": "2022-02-24T14:55:12.017Z"
   },
   {
    "duration": 2533,
    "start_time": "2022-02-24T14:55:12.188Z"
   },
   {
    "duration": 669,
    "start_time": "2022-02-24T14:55:14.723Z"
   },
   {
    "duration": 244,
    "start_time": "2022-02-24T14:55:15.393Z"
   },
   {
    "duration": 43,
    "start_time": "2022-02-24T14:55:15.639Z"
   },
   {
    "duration": 903,
    "start_time": "2022-02-24T14:55:15.685Z"
   },
   {
    "duration": 67,
    "start_time": "2022-02-24T14:55:22.131Z"
   },
   {
    "duration": 5677,
    "start_time": "2022-02-24T14:55:38.726Z"
   },
   {
    "duration": 164,
    "start_time": "2022-02-24T14:55:52.419Z"
   },
   {
    "duration": 179,
    "start_time": "2022-02-24T14:56:07.171Z"
   },
   {
    "duration": 933,
    "start_time": "2022-02-24T14:56:48.793Z"
   },
   {
    "duration": 1100,
    "start_time": "2022-02-24T14:57:02.799Z"
   },
   {
    "duration": 229,
    "start_time": "2022-02-24T14:57:44.269Z"
   },
   {
    "duration": 14,
    "start_time": "2022-02-24T15:00:22.273Z"
   },
   {
    "duration": 166,
    "start_time": "2022-02-24T15:00:52.367Z"
   },
   {
    "duration": 156,
    "start_time": "2022-02-24T15:00:58.115Z"
   },
   {
    "duration": 14,
    "start_time": "2022-02-24T15:01:06.105Z"
   },
   {
    "duration": 171,
    "start_time": "2022-02-24T15:01:18.144Z"
   },
   {
    "duration": 157,
    "start_time": "2022-02-24T15:02:14.112Z"
   },
   {
    "duration": 158,
    "start_time": "2022-02-24T15:02:19.886Z"
   },
   {
    "duration": 156,
    "start_time": "2022-02-24T15:08:13.457Z"
   },
   {
    "duration": 22,
    "start_time": "2022-02-24T15:08:30.692Z"
   },
   {
    "duration": 173,
    "start_time": "2022-02-24T15:09:09.571Z"
   },
   {
    "duration": 149,
    "start_time": "2022-02-24T15:09:13.701Z"
   },
   {
    "duration": 150,
    "start_time": "2022-02-24T15:09:16.990Z"
   },
   {
    "duration": 227,
    "start_time": "2022-02-24T15:09:20.603Z"
   },
   {
    "duration": 167,
    "start_time": "2022-02-24T15:09:27.069Z"
   },
   {
    "duration": 178,
    "start_time": "2022-02-24T15:09:32.896Z"
   },
   {
    "duration": 158,
    "start_time": "2022-02-24T15:10:03.755Z"
   },
   {
    "duration": 166,
    "start_time": "2022-02-24T15:10:19.058Z"
   },
   {
    "duration": 166,
    "start_time": "2022-02-24T15:12:16.429Z"
   },
   {
    "duration": 177,
    "start_time": "2022-02-24T15:13:05.249Z"
   },
   {
    "duration": 166,
    "start_time": "2022-02-24T15:13:10.419Z"
   },
   {
    "duration": 176,
    "start_time": "2022-02-24T15:13:18.865Z"
   },
   {
    "duration": 168,
    "start_time": "2022-02-24T15:13:25.753Z"
   },
   {
    "duration": 171,
    "start_time": "2022-02-24T15:13:37.419Z"
   },
   {
    "duration": 171,
    "start_time": "2022-02-24T15:13:52.681Z"
   },
   {
    "duration": 232,
    "start_time": "2022-02-24T15:14:19.739Z"
   },
   {
    "duration": 162,
    "start_time": "2022-02-24T15:17:10.450Z"
   },
   {
    "duration": 219,
    "start_time": "2022-02-24T15:18:00.468Z"
   },
   {
    "duration": 161,
    "start_time": "2022-02-24T15:18:03.704Z"
   },
   {
    "duration": 510,
    "start_time": "2022-02-24T15:19:35.008Z"
   },
   {
    "duration": 214,
    "start_time": "2022-02-24T15:19:56.069Z"
   },
   {
    "duration": 289,
    "start_time": "2022-02-24T15:20:48.939Z"
   },
   {
    "duration": 215,
    "start_time": "2022-02-24T15:21:00.463Z"
   },
   {
    "duration": 218,
    "start_time": "2022-02-24T15:21:06.049Z"
   },
   {
    "duration": 217,
    "start_time": "2022-02-24T15:21:24.988Z"
   },
   {
    "duration": 217,
    "start_time": "2022-02-24T15:27:28.626Z"
   },
   {
    "duration": 179,
    "start_time": "2022-02-24T15:27:37.239Z"
   },
   {
    "duration": 248,
    "start_time": "2022-02-24T15:29:59.233Z"
   },
   {
    "duration": 1709,
    "start_time": "2022-02-24T15:31:41.666Z"
   },
   {
    "duration": 91,
    "start_time": "2022-02-24T15:31:43.378Z"
   },
   {
    "duration": 168,
    "start_time": "2022-02-24T15:31:43.472Z"
   },
   {
    "duration": 2575,
    "start_time": "2022-02-24T15:31:43.645Z"
   },
   {
    "duration": 717,
    "start_time": "2022-02-24T15:31:46.222Z"
   },
   {
    "duration": 227,
    "start_time": "2022-02-24T15:31:46.943Z"
   },
   {
    "duration": 31,
    "start_time": "2022-02-24T15:31:47.173Z"
   },
   {
    "duration": 925,
    "start_time": "2022-02-24T15:31:47.206Z"
   },
   {
    "duration": 73,
    "start_time": "2022-02-24T15:31:48.133Z"
   },
   {
    "duration": 1766,
    "start_time": "2022-02-24T15:34:18.534Z"
   },
   {
    "duration": 92,
    "start_time": "2022-02-24T15:34:20.303Z"
   },
   {
    "duration": 196,
    "start_time": "2022-02-24T15:34:20.402Z"
   },
   {
    "duration": 2506,
    "start_time": "2022-02-24T15:34:20.600Z"
   },
   {
    "duration": 680,
    "start_time": "2022-02-24T15:34:23.109Z"
   },
   {
    "duration": 238,
    "start_time": "2022-02-24T15:34:23.793Z"
   },
   {
    "duration": 44,
    "start_time": "2022-02-24T15:34:24.032Z"
   },
   {
    "duration": 891,
    "start_time": "2022-02-24T15:34:24.078Z"
   },
   {
    "duration": 2,
    "start_time": "2022-02-24T15:34:24.971Z"
   },
   {
    "duration": 1234,
    "start_time": "2022-02-24T15:35:03.781Z"
   },
   {
    "duration": 1101,
    "start_time": "2022-02-24T15:35:21.485Z"
   },
   {
    "duration": 11,
    "start_time": "2022-02-24T15:55:02.013Z"
   },
   {
    "duration": 7,
    "start_time": "2022-02-24T15:56:34.653Z"
   },
   {
    "duration": 342,
    "start_time": "2022-02-24T15:59:02.756Z"
   },
   {
    "duration": 8,
    "start_time": "2022-02-24T15:59:12.785Z"
   },
   {
    "duration": 4,
    "start_time": "2022-02-24T15:59:21.605Z"
   },
   {
    "duration": 2125,
    "start_time": "2022-02-25T16:43:55.900Z"
   },
   {
    "duration": 108,
    "start_time": "2022-02-25T16:43:58.028Z"
   },
   {
    "duration": 230,
    "start_time": "2022-02-25T16:43:58.139Z"
   },
   {
    "duration": 4026,
    "start_time": "2022-02-25T16:43:58.371Z"
   },
   {
    "duration": 1199,
    "start_time": "2022-02-25T16:44:02.400Z"
   },
   {
    "duration": 383,
    "start_time": "2022-02-25T16:44:03.602Z"
   },
   {
    "duration": 42,
    "start_time": "2022-02-25T16:44:03.987Z"
   },
   {
    "duration": 1297,
    "start_time": "2022-02-25T16:44:04.033Z"
   },
   {
    "duration": 1284,
    "start_time": "2022-02-25T16:46:20.763Z"
   },
   {
    "duration": 1438,
    "start_time": "2022-02-25T16:46:22.050Z"
   },
   {
    "duration": 1189,
    "start_time": "2022-02-25T16:49:49.347Z"
   },
   {
    "duration": 416,
    "start_time": "2022-02-25T16:51:02.787Z"
   },
   {
    "duration": 296,
    "start_time": "2022-02-25T16:51:08.873Z"
   },
   {
    "duration": 980,
    "start_time": "2022-02-25T16:51:16.708Z"
   },
   {
    "duration": 1154,
    "start_time": "2022-02-25T16:51:23.883Z"
   },
   {
    "duration": 1450,
    "start_time": "2022-02-25T16:51:39.692Z"
   },
   {
    "duration": 668,
    "start_time": "2022-02-25T16:58:22.455Z"
   },
   {
    "duration": 1176,
    "start_time": "2022-02-25T16:58:39.581Z"
   },
   {
    "duration": 1167,
    "start_time": "2022-02-25T16:58:46.822Z"
   },
   {
    "duration": 590,
    "start_time": "2022-02-25T16:59:00.925Z"
   },
   {
    "duration": 1408,
    "start_time": "2022-02-25T16:59:27.664Z"
   },
   {
    "duration": 1243,
    "start_time": "2022-02-25T16:59:38.823Z"
   },
   {
    "duration": 1142,
    "start_time": "2022-02-25T16:59:52.814Z"
   },
   {
    "duration": 1150,
    "start_time": "2022-02-25T16:59:57.045Z"
   },
   {
    "duration": 105,
    "start_time": "2022-02-25T17:45:46.803Z"
   },
   {
    "duration": 1957,
    "start_time": "2022-02-26T16:19:38.644Z"
   },
   {
    "duration": 110,
    "start_time": "2022-02-26T16:19:40.604Z"
   },
   {
    "duration": 210,
    "start_time": "2022-02-26T16:19:40.719Z"
   },
   {
    "duration": 3479,
    "start_time": "2022-02-26T16:19:40.932Z"
   },
   {
    "duration": 1073,
    "start_time": "2022-02-26T16:19:44.413Z"
   },
   {
    "duration": 372,
    "start_time": "2022-02-26T16:19:45.488Z"
   },
   {
    "duration": 49,
    "start_time": "2022-02-26T16:19:45.864Z"
   },
   {
    "duration": 58,
    "start_time": "2022-02-26T16:19:45.916Z"
   },
   {
    "duration": -1334,
    "start_time": "2022-02-26T16:19:47.311Z"
   },
   {
    "duration": -1344,
    "start_time": "2022-02-26T16:19:47.322Z"
   },
   {
    "duration": 1089,
    "start_time": "2022-02-26T16:19:56.984Z"
   },
   {
    "duration": 1327,
    "start_time": "2022-02-26T16:19:58.387Z"
   },
   {
    "duration": 65,
    "start_time": "2022-02-26T16:31:07.908Z"
   },
   {
    "duration": 12,
    "start_time": "2022-02-26T16:38:29.610Z"
   },
   {
    "duration": 7,
    "start_time": "2022-02-26T16:38:34.717Z"
   },
   {
    "duration": 11,
    "start_time": "2022-02-26T16:38:42.566Z"
   },
   {
    "duration": 11,
    "start_time": "2022-02-26T16:38:46.152Z"
   },
   {
    "duration": 15,
    "start_time": "2022-02-26T16:38:53.466Z"
   },
   {
    "duration": 13,
    "start_time": "2022-02-26T16:39:11.423Z"
   },
   {
    "duration": 14,
    "start_time": "2022-02-26T16:39:14.822Z"
   },
   {
    "duration": 7,
    "start_time": "2022-02-26T16:39:33.793Z"
   },
   {
    "duration": 13,
    "start_time": "2022-02-26T16:39:37.446Z"
   },
   {
    "duration": 13,
    "start_time": "2022-02-26T16:39:41.622Z"
   },
   {
    "duration": 12,
    "start_time": "2022-02-26T16:39:47.727Z"
   },
   {
    "duration": 13,
    "start_time": "2022-02-26T16:40:01.329Z"
   },
   {
    "duration": 10,
    "start_time": "2022-02-26T16:40:23.860Z"
   },
   {
    "duration": 28,
    "start_time": "2022-02-26T16:40:40.071Z"
   },
   {
    "duration": 16,
    "start_time": "2022-02-26T16:43:06.371Z"
   },
   {
    "duration": 19,
    "start_time": "2022-02-26T16:43:55.912Z"
   },
   {
    "duration": 20,
    "start_time": "2022-02-26T16:44:24.699Z"
   },
   {
    "duration": 21,
    "start_time": "2022-02-26T16:44:30.102Z"
   },
   {
    "duration": 413,
    "start_time": "2022-02-26T16:45:20.269Z"
   },
   {
    "duration": 409,
    "start_time": "2022-02-26T16:45:29.210Z"
   },
   {
    "duration": 647,
    "start_time": "2022-02-26T16:45:56.961Z"
   },
   {
    "duration": 635,
    "start_time": "2022-02-26T16:46:37.198Z"
   },
   {
    "duration": 405,
    "start_time": "2022-02-26T16:46:52.124Z"
   },
   {
    "duration": 468,
    "start_time": "2022-02-26T16:47:17.750Z"
   },
   {
    "duration": 397,
    "start_time": "2022-02-26T16:49:42.291Z"
   },
   {
    "duration": 412,
    "start_time": "2022-02-26T16:51:05.087Z"
   },
   {
    "duration": 415,
    "start_time": "2022-02-26T16:51:16.257Z"
   },
   {
    "duration": 418,
    "start_time": "2022-02-26T17:14:25.767Z"
   },
   {
    "duration": 413,
    "start_time": "2022-02-26T17:15:09.781Z"
   },
   {
    "duration": 418,
    "start_time": "2022-02-26T17:15:14.418Z"
   },
   {
    "duration": 3841,
    "start_time": "2022-02-26T17:24:23.822Z"
   },
   {
    "duration": 4001,
    "start_time": "2022-02-26T17:26:01.133Z"
   },
   {
    "duration": 3505,
    "start_time": "2022-02-26T17:26:19.846Z"
   },
   {
    "duration": 3444,
    "start_time": "2022-02-26T17:27:26.730Z"
   },
   {
    "duration": 3464,
    "start_time": "2022-02-26T17:27:39.057Z"
   },
   {
    "duration": 3495,
    "start_time": "2022-02-26T17:28:45.845Z"
   },
   {
    "duration": 3532,
    "start_time": "2022-02-26T17:29:27.617Z"
   },
   {
    "duration": 3602,
    "start_time": "2022-02-26T17:30:42.916Z"
   },
   {
    "duration": 3620,
    "start_time": "2022-02-26T17:31:09.470Z"
   },
   {
    "duration": 5077,
    "start_time": "2022-02-26T17:31:22.208Z"
   },
   {
    "duration": 3569,
    "start_time": "2022-02-26T17:31:36.322Z"
   },
   {
    "duration": 3537,
    "start_time": "2022-02-26T17:31:49.095Z"
   },
   {
    "duration": 3547,
    "start_time": "2022-02-26T17:33:26.272Z"
   },
   {
    "duration": 1875,
    "start_time": "2022-02-26T17:33:34.614Z"
   },
   {
    "duration": 117,
    "start_time": "2022-02-26T17:33:36.492Z"
   },
   {
    "duration": 220,
    "start_time": "2022-02-26T17:33:36.612Z"
   },
   {
    "duration": 3463,
    "start_time": "2022-02-26T17:33:36.836Z"
   },
   {
    "duration": 1046,
    "start_time": "2022-02-26T17:33:40.302Z"
   },
   {
    "duration": 347,
    "start_time": "2022-02-26T17:33:41.350Z"
   },
   {
    "duration": 38,
    "start_time": "2022-02-26T17:33:41.700Z"
   },
   {
    "duration": 1135,
    "start_time": "2022-02-26T17:33:41.741Z"
   },
   {
    "duration": 1306,
    "start_time": "2022-02-26T17:33:42.881Z"
   },
   {
    "duration": 385,
    "start_time": "2022-02-26T17:33:44.190Z"
   },
   {
    "duration": 5094,
    "start_time": "2022-02-26T17:34:28.562Z"
   },
   {
    "duration": 3874,
    "start_time": "2022-02-26T17:34:36.508Z"
   },
   {
    "duration": 309,
    "start_time": "2022-02-26T17:36:04.383Z"
   },
   {
    "duration": 1871,
    "start_time": "2022-02-26T17:36:11.674Z"
   },
   {
    "duration": 108,
    "start_time": "2022-02-26T17:36:13.548Z"
   },
   {
    "duration": 232,
    "start_time": "2022-02-26T17:36:13.659Z"
   },
   {
    "duration": 3714,
    "start_time": "2022-02-26T17:36:13.894Z"
   },
   {
    "duration": 1062,
    "start_time": "2022-02-26T17:36:17.610Z"
   },
   {
    "duration": 402,
    "start_time": "2022-02-26T17:36:18.674Z"
   },
   {
    "duration": 45,
    "start_time": "2022-02-26T17:36:19.078Z"
   },
   {
    "duration": 1149,
    "start_time": "2022-02-26T17:36:19.126Z"
   },
   {
    "duration": 1333,
    "start_time": "2022-02-26T17:36:20.278Z"
   },
   {
    "duration": 393,
    "start_time": "2022-02-26T17:36:21.614Z"
   },
   {
    "duration": 406,
    "start_time": "2022-02-26T17:53:43.403Z"
   },
   {
    "duration": 426,
    "start_time": "2022-02-26T17:53:58.627Z"
   },
   {
    "duration": 422,
    "start_time": "2022-02-26T17:54:13.945Z"
   },
   {
    "duration": 372,
    "start_time": "2022-02-26T17:54:22.511Z"
   },
   {
    "duration": 414,
    "start_time": "2022-02-26T17:56:17.395Z"
   },
   {
    "duration": 357,
    "start_time": "2022-02-26T17:56:52.772Z"
   },
   {
    "duration": 682,
    "start_time": "2022-02-26T17:57:26.428Z"
   },
   {
    "duration": 404,
    "start_time": "2022-02-26T17:58:06.550Z"
   },
   {
    "duration": 17,
    "start_time": "2022-02-26T17:59:19.716Z"
   },
   {
    "duration": 19,
    "start_time": "2022-02-26T17:59:47.336Z"
   },
   {
    "duration": 184,
    "start_time": "2022-02-27T15:20:57.545Z"
   },
   {
    "duration": 168,
    "start_time": "2022-02-27T15:21:01.155Z"
   },
   {
    "duration": 1506,
    "start_time": "2022-02-27T15:21:05.316Z"
   },
   {
    "duration": 75,
    "start_time": "2022-02-27T15:21:06.824Z"
   },
   {
    "duration": 149,
    "start_time": "2022-02-27T15:21:06.901Z"
   },
   {
    "duration": 2083,
    "start_time": "2022-02-27T15:21:07.052Z"
   },
   {
    "duration": 533,
    "start_time": "2022-02-27T15:21:09.137Z"
   },
   {
    "duration": 198,
    "start_time": "2022-02-27T15:21:09.671Z"
   },
   {
    "duration": 25,
    "start_time": "2022-02-27T15:21:09.871Z"
   },
   {
    "duration": 728,
    "start_time": "2022-02-27T15:21:09.898Z"
   },
   {
    "duration": 970,
    "start_time": "2022-02-27T15:21:10.628Z"
   },
   {
    "duration": 13,
    "start_time": "2022-02-27T15:21:11.600Z"
   },
   {
    "duration": 11,
    "start_time": "2022-02-27T15:21:15.943Z"
   },
   {
    "duration": 9,
    "start_time": "2022-02-27T15:21:36.158Z"
   },
   {
    "duration": 1876,
    "start_time": "2022-02-27T15:28:56.349Z"
   },
   {
    "duration": 1927,
    "start_time": "2022-02-27T15:29:13.078Z"
   },
   {
    "duration": 1948,
    "start_time": "2022-02-27T15:30:20.256Z"
   },
   {
    "duration": 1772,
    "start_time": "2022-02-27T15:30:33.173Z"
   },
   {
    "duration": 1826,
    "start_time": "2022-02-27T15:30:49.466Z"
   },
   {
    "duration": 1756,
    "start_time": "2022-02-27T15:31:22.882Z"
   },
   {
    "duration": 1753,
    "start_time": "2022-02-27T15:33:22.505Z"
   },
   {
    "duration": 4,
    "start_time": "2022-02-27T15:33:55.373Z"
   },
   {
    "duration": 5,
    "start_time": "2022-02-27T15:34:02.626Z"
   },
   {
    "duration": 5,
    "start_time": "2022-02-27T15:34:07.855Z"
   },
   {
    "duration": 525,
    "start_time": "2022-02-27T15:38:52.274Z"
   },
   {
    "duration": 1498,
    "start_time": "2022-02-27T15:40:48.667Z"
   },
   {
    "duration": 76,
    "start_time": "2022-02-27T15:40:50.166Z"
   },
   {
    "duration": 135,
    "start_time": "2022-02-27T15:40:50.244Z"
   },
   {
    "duration": 2097,
    "start_time": "2022-02-27T15:40:50.381Z"
   },
   {
    "duration": 534,
    "start_time": "2022-02-27T15:40:52.479Z"
   },
   {
    "duration": 194,
    "start_time": "2022-02-27T15:40:53.015Z"
   },
   {
    "duration": 35,
    "start_time": "2022-02-27T15:40:53.210Z"
   },
   {
    "duration": 703,
    "start_time": "2022-02-27T15:40:53.247Z"
   },
   {
    "duration": 928,
    "start_time": "2022-02-27T15:40:53.952Z"
   },
   {
    "duration": 14,
    "start_time": "2022-02-27T15:40:54.882Z"
   },
   {
    "duration": 1867,
    "start_time": "2022-02-27T15:40:54.897Z"
   },
   {
    "duration": 2096,
    "start_time": "2022-02-27T15:42:00.462Z"
   },
   {
    "duration": 2124,
    "start_time": "2022-02-27T15:42:20.415Z"
   },
   {
    "duration": 2115,
    "start_time": "2022-02-27T15:43:13.917Z"
   },
   {
    "duration": 2127,
    "start_time": "2022-02-27T15:43:29.271Z"
   },
   {
    "duration": 2090,
    "start_time": "2022-02-27T15:44:14.975Z"
   },
   {
    "duration": 2091,
    "start_time": "2022-02-27T16:11:11.473Z"
   },
   {
    "duration": 2158,
    "start_time": "2022-02-27T16:11:17.526Z"
   },
   {
    "duration": 2019,
    "start_time": "2022-02-27T16:12:25.795Z"
   },
   {
    "duration": 1981,
    "start_time": "2022-02-27T16:12:38.318Z"
   },
   {
    "duration": 1511,
    "start_time": "2022-02-27T16:12:56.752Z"
   },
   {
    "duration": 88,
    "start_time": "2022-02-27T16:12:58.270Z"
   },
   {
    "duration": 136,
    "start_time": "2022-02-27T16:12:58.360Z"
   },
   {
    "duration": 1950,
    "start_time": "2022-02-27T16:12:58.498Z"
   },
   {
    "duration": 540,
    "start_time": "2022-02-27T16:13:00.450Z"
   },
   {
    "duration": 198,
    "start_time": "2022-02-27T16:13:00.992Z"
   },
   {
    "duration": 26,
    "start_time": "2022-02-27T16:13:01.192Z"
   },
   {
    "duration": 767,
    "start_time": "2022-02-27T16:13:01.220Z"
   },
   {
    "duration": 999,
    "start_time": "2022-02-27T16:13:01.989Z"
   },
   {
    "duration": 14,
    "start_time": "2022-02-27T16:13:02.989Z"
   },
   {
    "duration": 1872,
    "start_time": "2022-02-27T16:13:03.005Z"
   },
   {
    "duration": 15,
    "start_time": "2022-02-27T16:17:29.812Z"
   },
   {
    "duration": 17,
    "start_time": "2022-02-27T16:17:36.072Z"
   },
   {
    "duration": 17,
    "start_time": "2022-02-27T16:20:46.049Z"
   },
   {
    "duration": 16,
    "start_time": "2022-02-27T16:23:27.030Z"
   },
   {
    "duration": 16,
    "start_time": "2022-02-27T16:24:12.038Z"
   },
   {
    "duration": 13,
    "start_time": "2022-02-27T16:24:24.275Z"
   },
   {
    "duration": 14,
    "start_time": "2022-02-27T16:24:37.122Z"
   },
   {
    "duration": 17,
    "start_time": "2022-02-27T16:25:18.902Z"
   },
   {
    "duration": 15,
    "start_time": "2022-02-27T16:25:31.282Z"
   },
   {
    "duration": 257,
    "start_time": "2022-02-27T16:26:28.660Z"
   },
   {
    "duration": 143,
    "start_time": "2022-02-27T16:26:46.961Z"
   },
   {
    "duration": 29,
    "start_time": "2022-02-27T16:27:16.720Z"
   },
   {
    "duration": 15,
    "start_time": "2022-02-27T16:27:23.606Z"
   },
   {
    "duration": 360,
    "start_time": "2022-02-27T16:27:44.420Z"
   },
   {
    "duration": 378,
    "start_time": "2022-02-27T16:27:53.397Z"
   },
   {
    "duration": 15,
    "start_time": "2022-02-27T16:28:22.126Z"
   },
   {
    "duration": 336,
    "start_time": "2022-02-27T16:28:33.939Z"
   },
   {
    "duration": 13,
    "start_time": "2022-02-27T16:30:23.356Z"
   },
   {
    "duration": 330,
    "start_time": "2022-02-27T16:31:30.616Z"
   },
   {
    "duration": 393,
    "start_time": "2022-02-27T16:31:51.946Z"
   },
   {
    "duration": 1787,
    "start_time": "2022-02-27T16:34:25.842Z"
   },
   {
    "duration": 1486,
    "start_time": "2022-03-07T15:51:35.108Z"
   },
   {
    "duration": 77,
    "start_time": "2022-03-07T15:51:36.596Z"
   },
   {
    "duration": 127,
    "start_time": "2022-03-07T15:51:36.675Z"
   },
   {
    "duration": 1944,
    "start_time": "2022-03-07T15:51:36.804Z"
   },
   {
    "duration": 629,
    "start_time": "2022-03-07T15:51:38.750Z"
   },
   {
    "duration": 213,
    "start_time": "2022-03-07T15:51:39.380Z"
   },
   {
    "duration": 24,
    "start_time": "2022-03-07T15:51:39.595Z"
   },
   {
    "duration": 660,
    "start_time": "2022-03-07T15:51:39.621Z"
   },
   {
    "duration": 886,
    "start_time": "2022-03-07T15:51:40.283Z"
   },
   {
    "duration": 16,
    "start_time": "2022-03-07T15:51:41.170Z"
   },
   {
    "duration": 11,
    "start_time": "2022-03-07T15:51:41.188Z"
   },
   {
    "duration": 1828,
    "start_time": "2022-03-07T15:51:41.201Z"
   },
   {
    "duration": 13,
    "start_time": "2022-03-07T15:51:43.031Z"
   },
   {
    "duration": 321,
    "start_time": "2022-03-07T15:51:43.046Z"
   },
   {
    "duration": 8,
    "start_time": "2022-03-07T15:58:21.707Z"
   }
  ],
  "kernelspec": {
   "display_name": "Python 3 (ipykernel)",
   "language": "python",
   "name": "python3"
  },
  "language_info": {
   "codemirror_mode": {
    "name": "ipython",
    "version": 3
   },
   "file_extension": ".py",
   "mimetype": "text/x-python",
   "name": "python",
   "nbconvert_exporter": "python",
   "pygments_lexer": "ipython3",
   "version": "3.11.4"
  },
  "toc": {
   "base_numbering": 1,
   "nav_menu": {},
   "number_sections": true,
   "sideBar": true,
   "skip_h1_title": true,
   "title_cell": "Table of Contents",
   "title_sidebar": "Contents",
   "toc_cell": false,
   "toc_position": {},
   "toc_section_display": true,
   "toc_window_display": false
  }
 },
 "nbformat": 4,
 "nbformat_minor": 2
}
